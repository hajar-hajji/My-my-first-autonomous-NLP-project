{
 "cells": [
  {
   "cell_type": "markdown",
   "id": "487afa7e",
   "metadata": {},
   "source": [
    "## introduction to NLP tools : nltk &spaCy"
   ]
  },
  {
   "cell_type": "code",
   "execution_count": 1,
   "id": "471b33c6",
   "metadata": {},
   "outputs": [],
   "source": [
    "f=open(\"sleepingbeauty.txt\",\"r\")\n",
    "text=f.read()\n",
    "f.close()"
   ]
  },
  {
   "cell_type": "code",
   "execution_count": 2,
   "id": "1f604f2e",
   "metadata": {},
   "outputs": [
    {
     "name": "stdout",
     "output_type": "stream",
     "text": [
      "This is the story of Princess Aurora, the much-awaited daughter of the king and queen, who was cursed by an evil witch, to die by the prick from the spindle of a spinning wheel because her parents did not invite the fairy to her Christening. Fortunately, one of the good fairies who had been invited to the Christening was able to help. Though the princess would still have to be pricked, she would not die, but sleep for a hundred years. She was blessed by the other good fairies, and so grew up to be a beautiful, kind and obedient young girl who was often called Briar Rose. As predicted, on her sixteenth birthday, Aurora was pricked on her finger by a spinning wheel and fell into a deep sleep, along with every man, woman, child and animal in the castle. A hundred years later, a young prince tried to get to the castle, in order to see the famous beauty that had been asleep for so long. When he found her, he was stunned by her beauty and leaned in for a kiss. This broke the curse, and soon everyone in the castle was awoken from their long, hundred year sleep. The prince and princess were married, and the kingdom was happy and peaceful once again. Sleeping beauty teaches us that even though evil can sometimes interrupt our lives, when good intervenes, it can soften the blow and eventually, evil will be overcome.\n"
     ]
    }
   ],
   "source": [
    "print(text)"
   ]
  },
  {
   "cell_type": "markdown",
   "id": "c8c6436a",
   "metadata": {},
   "source": [
    "# NLTK"
   ]
  },
  {
   "cell_type": "code",
   "execution_count": 3,
   "id": "c2d6e271",
   "metadata": {},
   "outputs": [],
   "source": [
    "import nltk"
   ]
  },
  {
   "cell_type": "code",
   "execution_count": 4,
   "id": "aabc4dde",
   "metadata": {},
   "outputs": [
    {
     "name": "stdout",
     "output_type": "stream",
     "text": [
      "['This is the story of Princess Aurora, the much-awaited daughter of the king and queen, who was cursed by an evil witch, to die by the prick from the spindle of a spinning wheel because her parents did not invite the fairy to her Christening.', 'Fortunately, one of the good fairies who had been invited to the Christening was able to help.', 'Though the princess would still have to be pricked, she would not die, but sleep for a hundred years.', 'She was blessed by the other good fairies, and so grew up to be a beautiful, kind and obedient young girl who was often called Briar Rose.', 'As predicted, on her sixteenth birthday, Aurora was pricked on her finger by a spinning wheel and fell into a deep sleep, along with every man, woman, child and animal in the castle.', 'A hundred years later, a young prince tried to get to the castle, in order to see the famous beauty that had been asleep for so long.', 'When he found her, he was stunned by her beauty and leaned in for a kiss.', 'This broke the curse, and soon everyone in the castle was awoken from their long, hundred year sleep.', 'The prince and princess were married, and the kingdom was happy and peaceful once again.', 'Sleeping beauty teaches us that even though evil can sometimes interrupt our lives, when good intervenes, it can soften the blow and eventually, evil will be overcome.']\n"
     ]
    }
   ],
   "source": [
    "sentences=nltk.sent_tokenize(text)   # tokenize text into individual sentences \n",
    "print(sentences)"
   ]
  },
  {
   "cell_type": "code",
   "execution_count": 5,
   "id": "a617af1b",
   "metadata": {},
   "outputs": [
    {
     "name": "stdout",
     "output_type": "stream",
     "text": [
      "['This', 'is', 'the', 'story', 'of', 'Princess', 'Aurora', ',', 'the', 'much-awaited', 'daughter', 'of', 'the', 'king', 'and', 'queen', ',', 'who', 'was', 'cursed', 'by', 'an', 'evil', 'witch', ',', 'to', 'die', 'by', 'the', 'prick', 'from', 'the', 'spindle', 'of', 'a', 'spinning', 'wheel', 'because', 'her', 'parents', 'did', 'not', 'invite', 'the', 'fairy', 'to', 'her', 'Christening', '.', 'Fortunately', ',', 'one', 'of', 'the', 'good', 'fairies', 'who', 'had', 'been', 'invited', 'to', 'the', 'Christening', 'was', 'able', 'to', 'help', '.', 'Though', 'the', 'princess', 'would', 'still', 'have', 'to', 'be', 'pricked', ',', 'she', 'would', 'not', 'die', ',', 'but', 'sleep', 'for', 'a', 'hundred', 'years', '.', 'She', 'was', 'blessed', 'by', 'the', 'other', 'good', 'fairies', ',', 'and', 'so', 'grew', 'up', 'to', 'be', 'a', 'beautiful', ',', 'kind', 'and', 'obedient', 'young', 'girl', 'who', 'was', 'often', 'called', 'Briar', 'Rose', '.', 'As', 'predicted', ',', 'on', 'her', 'sixteenth', 'birthday', ',', 'Aurora', 'was', 'pricked', 'on', 'her', 'finger', 'by', 'a', 'spinning', 'wheel', 'and', 'fell', 'into', 'a', 'deep', 'sleep', ',', 'along', 'with', 'every', 'man', ',', 'woman', ',', 'child', 'and', 'animal', 'in', 'the', 'castle', '.', 'A', 'hundred', 'years', 'later', ',', 'a', 'young', 'prince', 'tried', 'to', 'get', 'to', 'the', 'castle', ',', 'in', 'order', 'to', 'see', 'the', 'famous', 'beauty', 'that', 'had', 'been', 'asleep', 'for', 'so', 'long', '.', 'When', 'he', 'found', 'her', ',', 'he', 'was', 'stunned', 'by', 'her', 'beauty', 'and', 'leaned', 'in', 'for', 'a', 'kiss', '.', 'This', 'broke', 'the', 'curse', ',', 'and', 'soon', 'everyone', 'in', 'the', 'castle', 'was', 'awoken', 'from', 'their', 'long', ',', 'hundred', 'year', 'sleep', '.', 'The', 'prince', 'and', 'princess', 'were', 'married', ',', 'and', 'the', 'kingdom', 'was', 'happy', 'and', 'peaceful', 'once', 'again', '.', 'Sleeping', 'beauty', 'teaches', 'us', 'that', 'even', 'though', 'evil', 'can', 'sometimes', 'interrupt', 'our', 'lives', ',', 'when', 'good', 'intervenes', ',', 'it', 'can', 'soften', 'the', 'blow', 'and', 'eventually', ',', 'evil', 'will', 'be', 'overcome', '.']\n"
     ]
    }
   ],
   "source": [
    "tokens=nltk.word_tokenize(text)    # tokenize text into individual words, punctuation included \n",
    "print(tokens)"
   ]
  },
  {
   "cell_type": "code",
   "execution_count": 6,
   "id": "e2c86b8a",
   "metadata": {},
   "outputs": [
    {
     "name": "stdout",
     "output_type": "stream",
     "text": [
      "['much-awaited', 'cursed', 'invited', 'pricked', 'hundred', 'blessed', 'called', 'predicted', 'pricked', 'hundred', 'tried', 'stunned', 'leaned', 'hundred', 'married']\n"
     ]
    }
   ],
   "source": [
    "words_ed=[]\n",
    "for token in tokens:\n",
    "    if token.endswith(\"ed\"):\n",
    "        words_ed.append(token)\n",
    "print(words_ed)"
   ]
  },
  {
   "cell_type": "markdown",
   "id": "cce45321",
   "metadata": {},
   "source": [
    "### some preprocessing op"
   ]
  },
  {
   "cell_type": "code",
   "execution_count": 7,
   "id": "ee009622",
   "metadata": {},
   "outputs": [],
   "source": [
    "import string"
   ]
  },
  {
   "cell_type": "code",
   "execution_count": 8,
   "id": "de7c2eec",
   "metadata": {},
   "outputs": [],
   "source": [
    "def remove_punctuation(text):\n",
    "    tokens=nltk.word_tokenize(text)\n",
    "    tokens=[token for token in tokens if token not in string.punctuation]\n",
    "    return tokens"
   ]
  },
  {
   "cell_type": "code",
   "execution_count": 9,
   "id": "851ee7af",
   "metadata": {},
   "outputs": [
    {
     "name": "stdout",
     "output_type": "stream",
     "text": [
      "['This', 'is', 'the', 'story', 'of', 'Princess', 'Aurora', 'the', 'much-awaited', 'daughter', 'of', 'the', 'king', 'and', 'queen', 'who', 'was', 'cursed', 'by', 'an', 'evil', 'witch', 'to', 'die', 'by', 'the', 'prick', 'from', 'the', 'spindle', 'of', 'a', 'spinning', 'wheel', 'because', 'her', 'parents', 'did', 'not', 'invite', 'the', 'fairy', 'to', 'her', 'Christening', 'Fortunately', 'one', 'of', 'the', 'good', 'fairies', 'who', 'had', 'been', 'invited', 'to', 'the', 'Christening', 'was', 'able', 'to', 'help', 'Though', 'the', 'princess', 'would', 'still', 'have', 'to', 'be', 'pricked', 'she', 'would', 'not', 'die', 'but', 'sleep', 'for', 'a', 'hundred', 'years', 'She', 'was', 'blessed', 'by', 'the', 'other', 'good', 'fairies', 'and', 'so', 'grew', 'up', 'to', 'be', 'a', 'beautiful', 'kind', 'and', 'obedient', 'young', 'girl', 'who', 'was', 'often', 'called', 'Briar', 'Rose', 'As', 'predicted', 'on', 'her', 'sixteenth', 'birthday', 'Aurora', 'was', 'pricked', 'on', 'her', 'finger', 'by', 'a', 'spinning', 'wheel', 'and', 'fell', 'into', 'a', 'deep', 'sleep', 'along', 'with', 'every', 'man', 'woman', 'child', 'and', 'animal', 'in', 'the', 'castle', 'A', 'hundred', 'years', 'later', 'a', 'young', 'prince', 'tried', 'to', 'get', 'to', 'the', 'castle', 'in', 'order', 'to', 'see', 'the', 'famous', 'beauty', 'that', 'had', 'been', 'asleep', 'for', 'so', 'long', 'When', 'he', 'found', 'her', 'he', 'was', 'stunned', 'by', 'her', 'beauty', 'and', 'leaned', 'in', 'for', 'a', 'kiss', 'This', 'broke', 'the', 'curse', 'and', 'soon', 'everyone', 'in', 'the', 'castle', 'was', 'awoken', 'from', 'their', 'long', 'hundred', 'year', 'sleep', 'The', 'prince', 'and', 'princess', 'were', 'married', 'and', 'the', 'kingdom', 'was', 'happy', 'and', 'peaceful', 'once', 'again', 'Sleeping', 'beauty', 'teaches', 'us', 'that', 'even', 'though', 'evil', 'can', 'sometimes', 'interrupt', 'our', 'lives', 'when', 'good', 'intervenes', 'it', 'can', 'soften', 'the', 'blow', 'and', 'eventually', 'evil', 'will', 'be', 'overcome']\n"
     ]
    }
   ],
   "source": [
    "print(remove_punctuation(text))"
   ]
  },
  {
   "cell_type": "code",
   "execution_count": 10,
   "id": "368c9e01",
   "metadata": {},
   "outputs": [],
   "source": [
    "def lower_case(text):\n",
    "    tokens=remove_punctuation(text)\n",
    "    low=[token.lower() for token in tokens]\n",
    "    return low"
   ]
  },
  {
   "cell_type": "code",
   "execution_count": 11,
   "id": "9d2ad3ad",
   "metadata": {},
   "outputs": [
    {
     "name": "stdout",
     "output_type": "stream",
     "text": [
      "['this', 'is', 'the', 'story', 'of', 'princess', 'aurora', 'the', 'much-awaited', 'daughter', 'of', 'the', 'king', 'and', 'queen', 'who', 'was', 'cursed', 'by', 'an', 'evil', 'witch', 'to', 'die', 'by', 'the', 'prick', 'from', 'the', 'spindle', 'of', 'a', 'spinning', 'wheel', 'because', 'her', 'parents', 'did', 'not', 'invite', 'the', 'fairy', 'to', 'her', 'christening', 'fortunately', 'one', 'of', 'the', 'good', 'fairies', 'who', 'had', 'been', 'invited', 'to', 'the', 'christening', 'was', 'able', 'to', 'help', 'though', 'the', 'princess', 'would', 'still', 'have', 'to', 'be', 'pricked', 'she', 'would', 'not', 'die', 'but', 'sleep', 'for', 'a', 'hundred', 'years', 'she', 'was', 'blessed', 'by', 'the', 'other', 'good', 'fairies', 'and', 'so', 'grew', 'up', 'to', 'be', 'a', 'beautiful', 'kind', 'and', 'obedient', 'young', 'girl', 'who', 'was', 'often', 'called', 'briar', 'rose', 'as', 'predicted', 'on', 'her', 'sixteenth', 'birthday', 'aurora', 'was', 'pricked', 'on', 'her', 'finger', 'by', 'a', 'spinning', 'wheel', 'and', 'fell', 'into', 'a', 'deep', 'sleep', 'along', 'with', 'every', 'man', 'woman', 'child', 'and', 'animal', 'in', 'the', 'castle', 'a', 'hundred', 'years', 'later', 'a', 'young', 'prince', 'tried', 'to', 'get', 'to', 'the', 'castle', 'in', 'order', 'to', 'see', 'the', 'famous', 'beauty', 'that', 'had', 'been', 'asleep', 'for', 'so', 'long', 'when', 'he', 'found', 'her', 'he', 'was', 'stunned', 'by', 'her', 'beauty', 'and', 'leaned', 'in', 'for', 'a', 'kiss', 'this', 'broke', 'the', 'curse', 'and', 'soon', 'everyone', 'in', 'the', 'castle', 'was', 'awoken', 'from', 'their', 'long', 'hundred', 'year', 'sleep', 'the', 'prince', 'and', 'princess', 'were', 'married', 'and', 'the', 'kingdom', 'was', 'happy', 'and', 'peaceful', 'once', 'again', 'sleeping', 'beauty', 'teaches', 'us', 'that', 'even', 'though', 'evil', 'can', 'sometimes', 'interrupt', 'our', 'lives', 'when', 'good', 'intervenes', 'it', 'can', 'soften', 'the', 'blow', 'and', 'eventually', 'evil', 'will', 'be', 'overcome']\n"
     ]
    }
   ],
   "source": [
    "print(lower_case(text))"
   ]
  },
  {
   "cell_type": "code",
   "execution_count": 12,
   "id": "2e81f3b7",
   "metadata": {},
   "outputs": [],
   "source": [
    "from nltk.corpus import stopwords"
   ]
  },
  {
   "cell_type": "code",
   "execution_count": 13,
   "id": "7a9881ce",
   "metadata": {},
   "outputs": [],
   "source": [
    "# remove words that don't carry much meaning\n",
    "def remove_stop_words(text): \n",
    "    tokens=lower_case(text)\n",
    "    stop_words=stopwords.words('english')\n",
    "    tokens_sw=[token for token in tokens if token not in stop_words]\n",
    "    return tokens_sw"
   ]
  },
  {
   "cell_type": "code",
   "execution_count": 14,
   "id": "61b069f8",
   "metadata": {},
   "outputs": [
    {
     "name": "stdout",
     "output_type": "stream",
     "text": [
      "['story', 'princess', 'aurora', 'much-awaited', 'daughter', 'king', 'queen', 'cursed', 'evil', 'witch', 'die', 'prick', 'spindle', 'spinning', 'wheel', 'parents', 'invite', 'fairy', 'christening', 'fortunately', 'one', 'good', 'fairies', 'invited', 'christening', 'able', 'help', 'though', 'princess', 'would', 'still', 'pricked', 'would', 'die', 'sleep', 'hundred', 'years', 'blessed', 'good', 'fairies', 'grew', 'beautiful', 'kind', 'obedient', 'young', 'girl', 'often', 'called', 'briar', 'rose', 'predicted', 'sixteenth', 'birthday', 'aurora', 'pricked', 'finger', 'spinning', 'wheel', 'fell', 'deep', 'sleep', 'along', 'every', 'man', 'woman', 'child', 'animal', 'castle', 'hundred', 'years', 'later', 'young', 'prince', 'tried', 'get', 'castle', 'order', 'see', 'famous', 'beauty', 'asleep', 'long', 'found', 'stunned', 'beauty', 'leaned', 'kiss', 'broke', 'curse', 'soon', 'everyone', 'castle', 'awoken', 'long', 'hundred', 'year', 'sleep', 'prince', 'princess', 'married', 'kingdom', 'happy', 'peaceful', 'sleeping', 'beauty', 'teaches', 'us', 'even', 'though', 'evil', 'sometimes', 'interrupt', 'lives', 'good', 'intervenes', 'soften', 'blow', 'eventually', 'evil', 'overcome']\n"
     ]
    }
   ],
   "source": [
    "print(remove_stop_words(text))"
   ]
  },
  {
   "cell_type": "markdown",
   "id": "57f91a74",
   "metadata": {},
   "source": [
    "### part-of-speech (POS) tags"
   ]
  },
  {
   "cell_type": "code",
   "execution_count": 15,
   "id": "45a05a2e",
   "metadata": {},
   "outputs": [
    {
     "name": "stdout",
     "output_type": "stream",
     "text": [
      "Help on function pos_tag in module nltk.tag:\n",
      "\n",
      "pos_tag(tokens, tagset=None, lang='eng')\n",
      "    Use NLTK's currently recommended part of speech tagger to\n",
      "    tag the given list of tokens.\n",
      "    \n",
      "        >>> from nltk.tag import pos_tag\n",
      "        >>> from nltk.tokenize import word_tokenize\n",
      "        >>> pos_tag(word_tokenize(\"John's big idea isn't all that bad.\")) # doctest: +NORMALIZE_WHITESPACE\n",
      "        [('John', 'NNP'), (\"'s\", 'POS'), ('big', 'JJ'), ('idea', 'NN'), ('is', 'VBZ'),\n",
      "        (\"n't\", 'RB'), ('all', 'PDT'), ('that', 'DT'), ('bad', 'JJ'), ('.', '.')]\n",
      "        >>> pos_tag(word_tokenize(\"John's big idea isn't all that bad.\"), tagset='universal') # doctest: +NORMALIZE_WHITESPACE\n",
      "        [('John', 'NOUN'), (\"'s\", 'PRT'), ('big', 'ADJ'), ('idea', 'NOUN'), ('is', 'VERB'),\n",
      "        (\"n't\", 'ADV'), ('all', 'DET'), ('that', 'DET'), ('bad', 'ADJ'), ('.', '.')]\n",
      "    \n",
      "    NB. Use `pos_tag_sents()` for efficient tagging of more than one sentence.\n",
      "    \n",
      "    :param tokens: Sequence of tokens to be tagged\n",
      "    :type tokens: list(str)\n",
      "    :param tagset: the tagset to be used, e.g. universal, wsj, brown\n",
      "    :type tagset: str\n",
      "    :param lang: the ISO 639 code of the language, e.g. 'eng' for English, 'rus' for Russian\n",
      "    :type lang: str\n",
      "    :return: The tagged tokens\n",
      "    :rtype: list(tuple(str, str))\n",
      "\n"
     ]
    }
   ],
   "source": [
    "help(nltk.pos_tag)"
   ]
  },
  {
   "cell_type": "code",
   "execution_count": 16,
   "id": "60a78150",
   "metadata": {},
   "outputs": [],
   "source": [
    "# define a function that extracts all verbs from a given text\n",
    "def extract_verbs(text):\n",
    "    tokens=nltk.word_tokenize(text)\n",
    "    tags=nltk.pos_tag(tokens)   # tag each word with its corresponding part-of-speech (POS) ((tuple)) ,check help above, param list(str)\n",
    "    verbs_tags=[\"VB\", \"VBD\", \"VBG\", \"VBN\", \"VBP\", \"VBZ\", \"MD\"]\n",
    "    extracted_verbs=[]\n",
    "    for token,tag in tags:\n",
    "        if tag in verbs_tags:\n",
    "            extracted_verbs.append(token)\n",
    "    return extracted_verbs"
   ]
  },
  {
   "cell_type": "code",
   "execution_count": 17,
   "id": "b81b88ef",
   "metadata": {},
   "outputs": [
    {
     "name": "stdout",
     "output_type": "stream",
     "text": [
      "['is', 'was', 'cursed', 'die', 'did', 'invite', 'had', 'been', 'invited', 'was', 'help', 'would', 'have', 'be', 'pricked', 'would', 'die', 'sleep', 'was', 'blessed', 'grew', 'be', 'was', 'called', 'was', 'pricked', 'fell', 'tried', 'get', 'see', 'had', 'been', 'found', 'was', 'stunned', 'leaned', 'broke', 'was', 'awoken', 'were', 'married', 'was', 'Sleeping', 'can', 'interrupt', 'can', 'soften', 'evil', 'will', 'be', 'overcome']\n"
     ]
    }
   ],
   "source": [
    "print(extract_verbs(text))"
   ]
  },
  {
   "cell_type": "code",
   "execution_count": 18,
   "id": "81957cd7",
   "metadata": {},
   "outputs": [],
   "source": [
    "def extract_verbs_ed(text):\n",
    "    verbs=extract_verbs(text)\n",
    "    verbs_ed=[verb for verb in verbs if verb.endswith(\"ed\")]\n",
    "    return verbs_ed"
   ]
  },
  {
   "cell_type": "code",
   "execution_count": 19,
   "id": "8602ff59",
   "metadata": {},
   "outputs": [
    {
     "name": "stdout",
     "output_type": "stream",
     "text": [
      "['cursed', 'invited', 'pricked', 'blessed', 'called', 'pricked', 'tried', 'stunned', 'leaned', 'married']\n"
     ]
    }
   ],
   "source": [
    "print(extract_verbs_ed(text))"
   ]
  },
  {
   "cell_type": "markdown",
   "id": "8e500afc",
   "metadata": {},
   "source": [
    "### lemmatization "
   ]
  },
  {
   "cell_type": "code",
   "execution_count": 20,
   "id": "0070552e",
   "metadata": {},
   "outputs": [],
   "source": [
    "from nltk import WordNetLemmatizer"
   ]
  },
  {
   "cell_type": "code",
   "execution_count": 21,
   "id": "393788e2",
   "metadata": {},
   "outputs": [],
   "source": [
    "lemmatizer=WordNetLemmatizer()\n",
    "def lemma_verbs(text):\n",
    "    verbs=extract_verbs(text)\n",
    "    lemmas=[]\n",
    "    for verb in verbs:\n",
    "        lemma=lemmatizer.lemmatize(verb,\"v\")   # argument \"v\" refers to verb form (noun by default)\n",
    "        lemmas.append((verb,lemma))\n",
    "    return lemmas"
   ]
  },
  {
   "cell_type": "code",
   "execution_count": 22,
   "id": "01777bc2",
   "metadata": {},
   "outputs": [
    {
     "name": "stdout",
     "output_type": "stream",
     "text": [
      "[('is', 'be'), ('was', 'be'), ('cursed', 'curse'), ('die', 'die'), ('did', 'do'), ('invite', 'invite'), ('had', 'have'), ('been', 'be'), ('invited', 'invite'), ('was', 'be'), ('help', 'help'), ('would', 'would'), ('have', 'have'), ('be', 'be'), ('pricked', 'prick'), ('would', 'would'), ('die', 'die'), ('sleep', 'sleep'), ('was', 'be'), ('blessed', 'bless'), ('grew', 'grow'), ('be', 'be'), ('was', 'be'), ('called', 'call'), ('was', 'be'), ('pricked', 'prick'), ('fell', 'fell'), ('tried', 'try'), ('get', 'get'), ('see', 'see'), ('had', 'have'), ('been', 'be'), ('found', 'find'), ('was', 'be'), ('stunned', 'stun'), ('leaned', 'lean'), ('broke', 'break'), ('was', 'be'), ('awoken', 'awake'), ('were', 'be'), ('married', 'marry'), ('was', 'be'), ('Sleeping', 'Sleeping'), ('can', 'can'), ('interrupt', 'interrupt'), ('can', 'can'), ('soften', 'soften'), ('evil', 'evil'), ('will', 'will'), ('be', 'be'), ('overcome', 'overcome')]\n"
     ]
    }
   ],
   "source": [
    "print(lemma_verbs(text))"
   ]
  },
  {
   "cell_type": "code",
   "execution_count": 23,
   "id": "90a5b26d",
   "metadata": {},
   "outputs": [
    {
     "data": {
      "text/plain": [
       "[('stemming', 'VBG')]"
      ]
     },
     "execution_count": 23,
     "metadata": {},
     "output_type": "execute_result"
    }
   ],
   "source": [
    "lemma = lemmatizer.lemmatize(\"stemming\", pos=\"v\")\n",
    "lemma\n",
    "nltk.pos_tag([\"stemming\"])"
   ]
  },
  {
   "cell_type": "code",
   "execution_count": 24,
   "id": "d0ab6869",
   "metadata": {},
   "outputs": [],
   "source": [
    "# taking into account each form figuring in the text\n",
    "def lemma(text):\n",
    "    lemmatizer = WordNetLemmatizer()\n",
    "    words=nltk.word_tokenize(text)\n",
    "    lemmas=[]\n",
    "    tags=nltk.pos_tag(words)\n",
    "    for i in range(len(tags)):\n",
    "        if tags[i][1].startswith(\"V\") or tags[i][1]==\"MD\":\n",
    "            lemma = lemmatizer.lemmatize(tags[i][0], pos=\"v\")\n",
    "        elif tags[i][1].startswith(\"JJ\"):\n",
    "            lemma = lemmatizer.lemmatize(tags[i][0], pos=\"a\")\n",
    "        elif tags[i][1].startswith(\"NN\"):\n",
    "            lemma = lemmatizer.lemmatize(tags[i][0], pos=\"n\")\n",
    "        elif tags[i][1].startswith(\"R\"):\n",
    "            lemma = lemmatizer.lemmatize(tags[i][0], pos=\"r\")\n",
    "        else:\n",
    "            lemma=lemmatizer.lemmatize(tags[i][0])\n",
    "        lemmas.append((tags[i][0],lemma))\n",
    "    return lemmas"
   ]
  },
  {
   "cell_type": "code",
   "execution_count": 25,
   "id": "3b21c176",
   "metadata": {},
   "outputs": [
    {
     "name": "stdout",
     "output_type": "stream",
     "text": [
      "[('This', 'This'), ('is', 'be'), ('the', 'the'), ('story', 'story'), ('of', 'of'), ('Princess', 'Princess'), ('Aurora', 'Aurora'), (',', ','), ('the', 'the'), ('much-awaited', 'much-awaited'), ('daughter', 'daughter'), ('of', 'of'), ('the', 'the'), ('king', 'king'), ('and', 'and'), ('queen', 'queen'), (',', ','), ('who', 'who'), ('was', 'be'), ('curse', 'curse')]\n"
     ]
    }
   ],
   "source": [
    "print(lemma(text[:100]))"
   ]
  },
  {
   "cell_type": "markdown",
   "id": "4bb1cef1",
   "metadata": {},
   "source": [
    "# spaCy"
   ]
  },
  {
   "cell_type": "code",
   "execution_count": 26,
   "id": "425b7237",
   "metadata": {},
   "outputs": [],
   "source": [
    "import spacy\n",
    "nlp=spacy.load(\"en_core_web_sm\")"
   ]
  },
  {
   "cell_type": "code",
   "execution_count": 27,
   "id": "e153ea70",
   "metadata": {},
   "outputs": [
    {
     "data": {
      "text/plain": [
       "'This is the story of Princess Aurora, the much-awaited daughter of the king and queen, who was cursed by an evil witch, to die by the prick from the spindle of a spinning wheel because her parents did not invite the fairy to her Christening.'"
      ]
     },
     "execution_count": 27,
     "metadata": {},
     "output_type": "execute_result"
    }
   ],
   "source": [
    "first_sentence=nltk.sent_tokenize(text)[0]\n",
    "first_sentence"
   ]
  },
  {
   "cell_type": "code",
   "execution_count": 28,
   "id": "2471dd3c",
   "metadata": {},
   "outputs": [],
   "source": [
    "nlp_sentence=nlp(first_sentence)"
   ]
  },
  {
   "cell_type": "markdown",
   "id": "0f0a9103",
   "metadata": {},
   "source": [
    "### tokenization &lemmatization"
   ]
  },
  {
   "cell_type": "code",
   "execution_count": 29,
   "id": "60ef222e",
   "metadata": {},
   "outputs": [
    {
     "name": "stdout",
     "output_type": "stream",
     "text": [
      "['This', 'is', 'the', 'story', 'of', 'Princess', 'Aurora', ',', 'the', 'much', '-', 'awaited', 'daughter', 'of', 'the', 'king', 'and', 'queen', ',', 'who', 'was', 'cursed', 'by', 'an', 'evil', 'witch', ',', 'to', 'die', 'by', 'the', 'prick', 'from', 'the', 'spindle', 'of', 'a', 'spinning', 'wheel', 'because', 'her', 'parents', 'did', 'not', 'invite', 'the', 'fairy', 'to', 'her', 'Christening', '.']\n",
      "\n",
      "Index:    [0, 1, 2, 3, 4, 5, 6, 7, 8, 9, 10, 11, 12, 13, 14, 15, 16, 17, 18, 19, 20, 21, 22, 23, 24, 25, 26, 27, 28, 29, 30, 31, 32, 33, 34, 35, 36, 37, 38, 39, 40, 41, 42, 43, 44, 45, 46, 47, 48, 49, 50]\n"
     ]
    }
   ],
   "source": [
    "tokens=[token.text for token in nlp_sentence] #token\n",
    "print(tokens)\n",
    "print()\n",
    "print(\"Index:   \", [token.i for token in nlp_sentence])"
   ]
  },
  {
   "cell_type": "code",
   "execution_count": 30,
   "id": "5434b1bc",
   "metadata": {},
   "outputs": [
    {
     "name": "stdout",
     "output_type": "stream",
     "text": [
      "is the story of\n"
     ]
    },
    {
     "data": {
      "text/plain": [
       "'is the story of'"
      ]
     },
     "execution_count": 30,
     "metadata": {},
     "output_type": "execute_result"
    }
   ],
   "source": [
    "print(nlp_sentence[1:5])\n",
    "nlp_sentence[1:5].text"
   ]
  },
  {
   "cell_type": "code",
   "execution_count": 31,
   "id": "351fc676",
   "metadata": {},
   "outputs": [
    {
     "name": "stdout",
     "output_type": "stream",
     "text": [
      "(Aurora, the)\n",
      "(much, awaited)\n",
      "(queen, who)\n",
      "(witch, to)\n"
     ]
    }
   ],
   "source": [
    "\"\"\" is_alpha // is_punct // like_num\n",
    "\"\"\" \n",
    "# Iterate over the tokens in the doc\n",
    "for token in nlp_sentence:\n",
    "    # Check if the token resembles a number\n",
    "    if token.is_punct and token!=nlp_sentence[-1]:\n",
    "        # Get the next token in the document\n",
    "        next_token = nlp_sentence[token.i+1]\n",
    "        previous_token=nlp_sentence[token.i-1]\n",
    "        print((previous_token,next_token))"
   ]
  },
  {
   "cell_type": "code",
   "execution_count": 32,
   "id": "d2c753eb",
   "metadata": {},
   "outputs": [
    {
     "name": "stdout",
     "output_type": "stream",
     "text": [
      "[('This', 'this'), ('is', 'be'), ('the', 'the'), ('story', 'story'), ('of', 'of'), ('Princess', 'Princess'), ('Aurora', 'Aurora'), (',', ','), ('the', 'the'), ('much', 'much'), ('-', '-'), ('awaited', 'await'), ('daughter', 'daughter'), ('of', 'of'), ('the', 'the'), ('king', 'king'), ('and', 'and'), ('queen', 'queen'), (',', ','), ('who', 'who'), ('was', 'be'), ('curse', 'curse')]\n"
     ]
    }
   ],
   "source": [
    "nlp_text=nlp(text[:100])\n",
    "lemmas=[(token.text,token.lemma_) for token in nlp_text]\n",
    "print(lemmas)"
   ]
  },
  {
   "cell_type": "markdown",
   "id": "06075ba8",
   "metadata": {},
   "source": [
    "### pos tagging"
   ]
  },
  {
   "cell_type": "code",
   "execution_count": 33,
   "id": "aca1c5dc",
   "metadata": {},
   "outputs": [
    {
     "name": "stdout",
     "output_type": "stream",
     "text": [
      "[(This, 'DT', 'PRON'), (is, 'VBZ', 'AUX'), (the, 'DT', 'DET'), (story, 'NN', 'NOUN'), (of, 'IN', 'ADP'), (Princess, 'NNP', 'PROPN'), (Aurora, 'NNP', 'PROPN'), (,, ',', 'PUNCT'), (the, 'DT', 'DET'), (much, 'RB', 'ADV'), (-, 'HYPH', 'PUNCT'), (awaited, 'VBN', 'VERB'), (daughter, 'NN', 'NOUN'), (of, 'IN', 'ADP'), (the, 'DT', 'DET'), (king, 'NN', 'NOUN'), (and, 'CC', 'CCONJ'), (queen, 'NNP', 'PROPN'), (,, ',', 'PUNCT'), (who, 'WP', 'PRON'), (was, 'VBD', 'AUX'), (cursed, 'VBN', 'VERB'), (by, 'IN', 'ADP'), (an, 'DT', 'DET'), (evil, 'JJ', 'ADJ'), (witch, 'NN', 'NOUN'), (,, ',', 'PUNCT'), (to, 'TO', 'PART'), (die, 'VB', 'VERB'), (by, 'IN', 'ADP'), (the, 'DT', 'DET'), (prick, 'NN', 'NOUN'), (from, 'IN', 'ADP'), (the, 'DT', 'DET'), (spindle, 'NN', 'NOUN'), (of, 'IN', 'ADP'), (a, 'DT', 'DET'), (spinning, 'VBG', 'VERB'), (wheel, 'NN', 'NOUN'), (because, 'IN', 'SCONJ'), (her, 'PRP$', 'PRON'), (parents, 'NNS', 'NOUN'), (did, 'VBD', 'AUX'), (not, 'RB', 'PART'), (invite, 'VB', 'VERB'), (the, 'DT', 'DET'), (fairy, 'NN', 'NOUN'), (to, 'IN', 'ADP'), (her, 'PRP$', 'PRON'), (Christening, 'NN', 'NOUN'), (., '.', 'PUNCT')]\n"
     ]
    }
   ],
   "source": [
    "spacy_pos=[(word,word.tag_,word.pos_) for word in nlp_sentence]\n",
    "print(spacy_pos)"
   ]
  },
  {
   "cell_type": "code",
   "execution_count": 34,
   "id": "c2146c5f",
   "metadata": {},
   "outputs": [
    {
     "data": {
      "text/html": [
       "<div>\n",
       "<style scoped>\n",
       "    .dataframe tbody tr th:only-of-type {\n",
       "        vertical-align: middle;\n",
       "    }\n",
       "\n",
       "    .dataframe tbody tr th {\n",
       "        vertical-align: top;\n",
       "    }\n",
       "\n",
       "    .dataframe thead th {\n",
       "        text-align: right;\n",
       "    }\n",
       "</style>\n",
       "<table border=\"1\" class=\"dataframe\">\n",
       "  <thead>\n",
       "    <tr style=\"text-align: right;\">\n",
       "      <th></th>\n",
       "      <th>Word</th>\n",
       "      <th>POS tag</th>\n",
       "      <th>Tag type</th>\n",
       "    </tr>\n",
       "  </thead>\n",
       "  <tbody>\n",
       "    <tr>\n",
       "      <th>0</th>\n",
       "      <td>This</td>\n",
       "      <td>DT</td>\n",
       "      <td>PRON</td>\n",
       "    </tr>\n",
       "    <tr>\n",
       "      <th>1</th>\n",
       "      <td>is</td>\n",
       "      <td>VBZ</td>\n",
       "      <td>AUX</td>\n",
       "    </tr>\n",
       "    <tr>\n",
       "      <th>2</th>\n",
       "      <td>the</td>\n",
       "      <td>DT</td>\n",
       "      <td>DET</td>\n",
       "    </tr>\n",
       "    <tr>\n",
       "      <th>3</th>\n",
       "      <td>story</td>\n",
       "      <td>NN</td>\n",
       "      <td>NOUN</td>\n",
       "    </tr>\n",
       "    <tr>\n",
       "      <th>4</th>\n",
       "      <td>of</td>\n",
       "      <td>IN</td>\n",
       "      <td>ADP</td>\n",
       "    </tr>\n",
       "  </tbody>\n",
       "</table>\n",
       "</div>"
      ],
      "text/plain": [
       "    Word POS tag Tag type\n",
       "0   This      DT     PRON\n",
       "1     is     VBZ      AUX\n",
       "2    the      DT      DET\n",
       "3  story      NN     NOUN\n",
       "4     of      IN      ADP"
      ]
     },
     "execution_count": 34,
     "metadata": {},
     "output_type": "execute_result"
    }
   ],
   "source": [
    "import pandas as pd\n",
    "df=pd.DataFrame(spacy_pos, columns=['Word', 'POS tag', 'Tag type'])\n",
    "df.head()"
   ]
  },
  {
   "cell_type": "markdown",
   "id": "018bb739",
   "metadata": {},
   "source": [
    "### NER : Named Entity Recognition "
   ]
  },
  {
   "cell_type": "code",
   "execution_count": 35,
   "id": "662da1ba",
   "metadata": {},
   "outputs": [
    {
     "data": {
      "text/html": [
       "<span class=\"tex2jax_ignore\"><div class=\"entities\" style=\"line-height: 2.5; direction: ltr\">This is the story of Princess \n",
       "<mark class=\"entity\" style=\"background: #aa9cfc; padding: 0.45em 0.6em; margin: 0 0.25em; line-height: 1; border-radius: 0.35em;\">\n",
       "    Aurora\n",
       "    <span style=\"font-size: 0.8em; font-weight: bold; line-height: 1; border-radius: 0.35em; vertical-align: middle; margin-left: 0.5rem\">PERSON</span>\n",
       "</mark>\n",
       ", the much-awaited daughter of the king and queen, who was cursed by an evil witch, to die by the prick from the spindle of a spinning wheel because her parents did not invite the fairy to her \n",
       "<mark class=\"entity\" style=\"background: #7aecec; padding: 0.45em 0.6em; margin: 0 0.25em; line-height: 1; border-radius: 0.35em;\">\n",
       "    Christening\n",
       "    <span style=\"font-size: 0.8em; font-weight: bold; line-height: 1; border-radius: 0.35em; vertical-align: middle; margin-left: 0.5rem\">ORG</span>\n",
       "</mark>\n",
       ".</div></span>"
      ],
      "text/plain": [
       "<IPython.core.display.HTML object>"
      ]
     },
     "metadata": {},
     "output_type": "display_data"
    }
   ],
   "source": [
    "from spacy import displacy\n",
    "displacy.render(nlp_sentence, style='ent', jupyter=True)"
   ]
  },
  {
   "cell_type": "code",
   "execution_count": 36,
   "id": "d734fe5e",
   "metadata": {},
   "outputs": [
    {
     "name": "stdout",
     "output_type": "stream",
     "text": [
      "(Aurora, Christening)\n",
      "PERSON\n",
      "ORG\n",
      "\n",
      "('Aurora', 'PERSON')\n",
      "('Christening', 'ORG')\n"
     ]
    }
   ],
   "source": [
    "print(nlp_sentence.ents)  # all entities\n",
    "print(nlp_sentence.ents[0].label_)  # labels the first entity\n",
    "print(nlp_sentence.ents[1].label_)\n",
    "print()\n",
    "for ent in nlp_sentence.ents:\n",
    "    print((ent.text,ent.label_))"
   ]
  },
  {
   "cell_type": "code",
   "execution_count": 37,
   "id": "0444af0f",
   "metadata": {},
   "outputs": [
    {
     "name": "stdout",
     "output_type": "stream",
     "text": [
      "['Aurora', 'Christening', 'one', 'Christening', 'a hundred years', 'Briar Rose', 'sixteenth', 'Aurora', 'A hundred years later', 'hundred year']\n",
      "['PERSON', 'ORG', 'CARDINAL', 'ORG', 'DATE', 'PERSON', 'ORDINAL', 'PERSON', 'DATE', 'DATE']\n"
     ]
    }
   ],
   "source": [
    "entities=[]\n",
    "labels=[]\n",
    "pos_start=[]\n",
    "pos_end=[]\n",
    "sent=nltk.sent_tokenize(text)\n",
    "nlp_sent=nlp(\" \".join(sent))\n",
    "for entity in nlp_sent.ents:  # itering over entities\n",
    "    entities.append(entity.text)  # converting it into string\n",
    "    labels.append(entity.label_)\n",
    "    pos_start.append(entity.start_char)\n",
    "    pos_end.append(entity.end_char)\n",
    "print(entities)\n",
    "print(labels)"
   ]
  },
  {
   "cell_type": "code",
   "execution_count": 38,
   "id": "c0c50222",
   "metadata": {},
   "outputs": [
    {
     "data": {
      "text/html": [
       "<div>\n",
       "<style scoped>\n",
       "    .dataframe tbody tr th:only-of-type {\n",
       "        vertical-align: middle;\n",
       "    }\n",
       "\n",
       "    .dataframe tbody tr th {\n",
       "        vertical-align: top;\n",
       "    }\n",
       "\n",
       "    .dataframe thead th {\n",
       "        text-align: right;\n",
       "    }\n",
       "</style>\n",
       "<table border=\"1\" class=\"dataframe\">\n",
       "  <thead>\n",
       "    <tr style=\"text-align: right;\">\n",
       "      <th></th>\n",
       "      <th>Entities</th>\n",
       "      <th>Labels</th>\n",
       "      <th>Position_Start</th>\n",
       "      <th>Position_End</th>\n",
       "    </tr>\n",
       "  </thead>\n",
       "  <tbody>\n",
       "    <tr>\n",
       "      <th>0</th>\n",
       "      <td>Aurora</td>\n",
       "      <td>PERSON</td>\n",
       "      <td>30</td>\n",
       "      <td>36</td>\n",
       "    </tr>\n",
       "    <tr>\n",
       "      <th>1</th>\n",
       "      <td>Christening</td>\n",
       "      <td>ORG</td>\n",
       "      <td>229</td>\n",
       "      <td>240</td>\n",
       "    </tr>\n",
       "    <tr>\n",
       "      <th>2</th>\n",
       "      <td>one</td>\n",
       "      <td>CARDINAL</td>\n",
       "      <td>255</td>\n",
       "      <td>258</td>\n",
       "    </tr>\n",
       "    <tr>\n",
       "      <th>3</th>\n",
       "      <td>Christening</td>\n",
       "      <td>ORG</td>\n",
       "      <td>307</td>\n",
       "      <td>318</td>\n",
       "    </tr>\n",
       "    <tr>\n",
       "      <th>4</th>\n",
       "      <td>a hundred years</td>\n",
       "      <td>DATE</td>\n",
       "      <td>422</td>\n",
       "      <td>437</td>\n",
       "    </tr>\n",
       "    <tr>\n",
       "      <th>5</th>\n",
       "      <td>Briar Rose</td>\n",
       "      <td>PERSON</td>\n",
       "      <td>566</td>\n",
       "      <td>576</td>\n",
       "    </tr>\n",
       "    <tr>\n",
       "      <th>6</th>\n",
       "      <td>sixteenth</td>\n",
       "      <td>ORDINAL</td>\n",
       "      <td>599</td>\n",
       "      <td>608</td>\n",
       "    </tr>\n",
       "    <tr>\n",
       "      <th>7</th>\n",
       "      <td>Aurora</td>\n",
       "      <td>PERSON</td>\n",
       "      <td>619</td>\n",
       "      <td>625</td>\n",
       "    </tr>\n",
       "    <tr>\n",
       "      <th>8</th>\n",
       "      <td>A hundred years later</td>\n",
       "      <td>DATE</td>\n",
       "      <td>761</td>\n",
       "      <td>782</td>\n",
       "    </tr>\n",
       "    <tr>\n",
       "      <th>9</th>\n",
       "      <td>hundred year</td>\n",
       "      <td>DATE</td>\n",
       "      <td>1051</td>\n",
       "      <td>1063</td>\n",
       "    </tr>\n",
       "  </tbody>\n",
       "</table>\n",
       "</div>"
      ],
      "text/plain": [
       "                Entities    Labels  Position_Start  Position_End\n",
       "0                 Aurora    PERSON              30            36\n",
       "1            Christening       ORG             229           240\n",
       "2                    one  CARDINAL             255           258\n",
       "3            Christening       ORG             307           318\n",
       "4        a hundred years      DATE             422           437\n",
       "5             Briar Rose    PERSON             566           576\n",
       "6              sixteenth   ORDINAL             599           608\n",
       "7                 Aurora    PERSON             619           625\n",
       "8  A hundred years later      DATE             761           782\n",
       "9           hundred year      DATE            1051          1063"
      ]
     },
     "execution_count": 38,
     "metadata": {},
     "output_type": "execute_result"
    }
   ],
   "source": [
    "pd.DataFrame({'Entities':entities, 'Labels':labels, 'Position_Start':pos_start, 'Position_End':pos_end})"
   ]
  },
  {
   "cell_type": "markdown",
   "id": "4fafd2b2",
   "metadata": {},
   "source": [
    "### dependency parsing tree"
   ]
  },
  {
   "cell_type": "code",
   "execution_count": 39,
   "id": "bd9bc06f",
   "metadata": {},
   "outputs": [
    {
     "data": {
      "text/html": [
       "<span class=\"tex2jax_ignore\"><svg xmlns=\"http://www.w3.org/2000/svg\" xmlns:xlink=\"http://www.w3.org/1999/xlink\" xml:lang=\"en\" id=\"2c053ec6a07e4cf681d4be3acaf8fea7-0\" class=\"displacy\" width=\"8100\" height=\"574.5\" direction=\"ltr\" style=\"max-width: none; height: 574.5px; color: #000000; background: #ffffff; font-family: Arial; direction: ltr\">\n",
       "<text class=\"displacy-token\" fill=\"currentColor\" text-anchor=\"middle\" y=\"484.5\">\n",
       "    <tspan class=\"displacy-word\" fill=\"currentColor\" x=\"50\">This</tspan>\n",
       "    <tspan class=\"displacy-tag\" dy=\"2em\" fill=\"currentColor\" x=\"50\">PRON</tspan>\n",
       "</text>\n",
       "\n",
       "<text class=\"displacy-token\" fill=\"currentColor\" text-anchor=\"middle\" y=\"484.5\">\n",
       "    <tspan class=\"displacy-word\" fill=\"currentColor\" x=\"225\">is</tspan>\n",
       "    <tspan class=\"displacy-tag\" dy=\"2em\" fill=\"currentColor\" x=\"225\">AUX</tspan>\n",
       "</text>\n",
       "\n",
       "<text class=\"displacy-token\" fill=\"currentColor\" text-anchor=\"middle\" y=\"484.5\">\n",
       "    <tspan class=\"displacy-word\" fill=\"currentColor\" x=\"400\">the</tspan>\n",
       "    <tspan class=\"displacy-tag\" dy=\"2em\" fill=\"currentColor\" x=\"400\">DET</tspan>\n",
       "</text>\n",
       "\n",
       "<text class=\"displacy-token\" fill=\"currentColor\" text-anchor=\"middle\" y=\"484.5\">\n",
       "    <tspan class=\"displacy-word\" fill=\"currentColor\" x=\"575\">story</tspan>\n",
       "    <tspan class=\"displacy-tag\" dy=\"2em\" fill=\"currentColor\" x=\"575\">NOUN</tspan>\n",
       "</text>\n",
       "\n",
       "<text class=\"displacy-token\" fill=\"currentColor\" text-anchor=\"middle\" y=\"484.5\">\n",
       "    <tspan class=\"displacy-word\" fill=\"currentColor\" x=\"750\">of</tspan>\n",
       "    <tspan class=\"displacy-tag\" dy=\"2em\" fill=\"currentColor\" x=\"750\">ADP</tspan>\n",
       "</text>\n",
       "\n",
       "<text class=\"displacy-token\" fill=\"currentColor\" text-anchor=\"middle\" y=\"484.5\">\n",
       "    <tspan class=\"displacy-word\" fill=\"currentColor\" x=\"925\">Princess</tspan>\n",
       "    <tspan class=\"displacy-tag\" dy=\"2em\" fill=\"currentColor\" x=\"925\">PROPN</tspan>\n",
       "</text>\n",
       "\n",
       "<text class=\"displacy-token\" fill=\"currentColor\" text-anchor=\"middle\" y=\"484.5\">\n",
       "    <tspan class=\"displacy-word\" fill=\"currentColor\" x=\"1100\">Aurora,</tspan>\n",
       "    <tspan class=\"displacy-tag\" dy=\"2em\" fill=\"currentColor\" x=\"1100\">PROPN</tspan>\n",
       "</text>\n",
       "\n",
       "<text class=\"displacy-token\" fill=\"currentColor\" text-anchor=\"middle\" y=\"484.5\">\n",
       "    <tspan class=\"displacy-word\" fill=\"currentColor\" x=\"1275\">the</tspan>\n",
       "    <tspan class=\"displacy-tag\" dy=\"2em\" fill=\"currentColor\" x=\"1275\">DET</tspan>\n",
       "</text>\n",
       "\n",
       "<text class=\"displacy-token\" fill=\"currentColor\" text-anchor=\"middle\" y=\"484.5\">\n",
       "    <tspan class=\"displacy-word\" fill=\"currentColor\" x=\"1450\">much-</tspan>\n",
       "    <tspan class=\"displacy-tag\" dy=\"2em\" fill=\"currentColor\" x=\"1450\">ADV</tspan>\n",
       "</text>\n",
       "\n",
       "<text class=\"displacy-token\" fill=\"currentColor\" text-anchor=\"middle\" y=\"484.5\">\n",
       "    <tspan class=\"displacy-word\" fill=\"currentColor\" x=\"1625\">awaited</tspan>\n",
       "    <tspan class=\"displacy-tag\" dy=\"2em\" fill=\"currentColor\" x=\"1625\">VERB</tspan>\n",
       "</text>\n",
       "\n",
       "<text class=\"displacy-token\" fill=\"currentColor\" text-anchor=\"middle\" y=\"484.5\">\n",
       "    <tspan class=\"displacy-word\" fill=\"currentColor\" x=\"1800\">daughter</tspan>\n",
       "    <tspan class=\"displacy-tag\" dy=\"2em\" fill=\"currentColor\" x=\"1800\">NOUN</tspan>\n",
       "</text>\n",
       "\n",
       "<text class=\"displacy-token\" fill=\"currentColor\" text-anchor=\"middle\" y=\"484.5\">\n",
       "    <tspan class=\"displacy-word\" fill=\"currentColor\" x=\"1975\">of</tspan>\n",
       "    <tspan class=\"displacy-tag\" dy=\"2em\" fill=\"currentColor\" x=\"1975\">ADP</tspan>\n",
       "</text>\n",
       "\n",
       "<text class=\"displacy-token\" fill=\"currentColor\" text-anchor=\"middle\" y=\"484.5\">\n",
       "    <tspan class=\"displacy-word\" fill=\"currentColor\" x=\"2150\">the</tspan>\n",
       "    <tspan class=\"displacy-tag\" dy=\"2em\" fill=\"currentColor\" x=\"2150\">DET</tspan>\n",
       "</text>\n",
       "\n",
       "<text class=\"displacy-token\" fill=\"currentColor\" text-anchor=\"middle\" y=\"484.5\">\n",
       "    <tspan class=\"displacy-word\" fill=\"currentColor\" x=\"2325\">king</tspan>\n",
       "    <tspan class=\"displacy-tag\" dy=\"2em\" fill=\"currentColor\" x=\"2325\">NOUN</tspan>\n",
       "</text>\n",
       "\n",
       "<text class=\"displacy-token\" fill=\"currentColor\" text-anchor=\"middle\" y=\"484.5\">\n",
       "    <tspan class=\"displacy-word\" fill=\"currentColor\" x=\"2500\">and</tspan>\n",
       "    <tspan class=\"displacy-tag\" dy=\"2em\" fill=\"currentColor\" x=\"2500\">CCONJ</tspan>\n",
       "</text>\n",
       "\n",
       "<text class=\"displacy-token\" fill=\"currentColor\" text-anchor=\"middle\" y=\"484.5\">\n",
       "    <tspan class=\"displacy-word\" fill=\"currentColor\" x=\"2675\">queen,</tspan>\n",
       "    <tspan class=\"displacy-tag\" dy=\"2em\" fill=\"currentColor\" x=\"2675\">PROPN</tspan>\n",
       "</text>\n",
       "\n",
       "<text class=\"displacy-token\" fill=\"currentColor\" text-anchor=\"middle\" y=\"484.5\">\n",
       "    <tspan class=\"displacy-word\" fill=\"currentColor\" x=\"2850\">who</tspan>\n",
       "    <tspan class=\"displacy-tag\" dy=\"2em\" fill=\"currentColor\" x=\"2850\">PRON</tspan>\n",
       "</text>\n",
       "\n",
       "<text class=\"displacy-token\" fill=\"currentColor\" text-anchor=\"middle\" y=\"484.5\">\n",
       "    <tspan class=\"displacy-word\" fill=\"currentColor\" x=\"3025\">was</tspan>\n",
       "    <tspan class=\"displacy-tag\" dy=\"2em\" fill=\"currentColor\" x=\"3025\">AUX</tspan>\n",
       "</text>\n",
       "\n",
       "<text class=\"displacy-token\" fill=\"currentColor\" text-anchor=\"middle\" y=\"484.5\">\n",
       "    <tspan class=\"displacy-word\" fill=\"currentColor\" x=\"3200\">cursed</tspan>\n",
       "    <tspan class=\"displacy-tag\" dy=\"2em\" fill=\"currentColor\" x=\"3200\">VERB</tspan>\n",
       "</text>\n",
       "\n",
       "<text class=\"displacy-token\" fill=\"currentColor\" text-anchor=\"middle\" y=\"484.5\">\n",
       "    <tspan class=\"displacy-word\" fill=\"currentColor\" x=\"3375\">by</tspan>\n",
       "    <tspan class=\"displacy-tag\" dy=\"2em\" fill=\"currentColor\" x=\"3375\">ADP</tspan>\n",
       "</text>\n",
       "\n",
       "<text class=\"displacy-token\" fill=\"currentColor\" text-anchor=\"middle\" y=\"484.5\">\n",
       "    <tspan class=\"displacy-word\" fill=\"currentColor\" x=\"3550\">an</tspan>\n",
       "    <tspan class=\"displacy-tag\" dy=\"2em\" fill=\"currentColor\" x=\"3550\">DET</tspan>\n",
       "</text>\n",
       "\n",
       "<text class=\"displacy-token\" fill=\"currentColor\" text-anchor=\"middle\" y=\"484.5\">\n",
       "    <tspan class=\"displacy-word\" fill=\"currentColor\" x=\"3725\">evil</tspan>\n",
       "    <tspan class=\"displacy-tag\" dy=\"2em\" fill=\"currentColor\" x=\"3725\">ADJ</tspan>\n",
       "</text>\n",
       "\n",
       "<text class=\"displacy-token\" fill=\"currentColor\" text-anchor=\"middle\" y=\"484.5\">\n",
       "    <tspan class=\"displacy-word\" fill=\"currentColor\" x=\"3900\">witch,</tspan>\n",
       "    <tspan class=\"displacy-tag\" dy=\"2em\" fill=\"currentColor\" x=\"3900\">NOUN</tspan>\n",
       "</text>\n",
       "\n",
       "<text class=\"displacy-token\" fill=\"currentColor\" text-anchor=\"middle\" y=\"484.5\">\n",
       "    <tspan class=\"displacy-word\" fill=\"currentColor\" x=\"4075\">to</tspan>\n",
       "    <tspan class=\"displacy-tag\" dy=\"2em\" fill=\"currentColor\" x=\"4075\">PART</tspan>\n",
       "</text>\n",
       "\n",
       "<text class=\"displacy-token\" fill=\"currentColor\" text-anchor=\"middle\" y=\"484.5\">\n",
       "    <tspan class=\"displacy-word\" fill=\"currentColor\" x=\"4250\">die</tspan>\n",
       "    <tspan class=\"displacy-tag\" dy=\"2em\" fill=\"currentColor\" x=\"4250\">VERB</tspan>\n",
       "</text>\n",
       "\n",
       "<text class=\"displacy-token\" fill=\"currentColor\" text-anchor=\"middle\" y=\"484.5\">\n",
       "    <tspan class=\"displacy-word\" fill=\"currentColor\" x=\"4425\">by</tspan>\n",
       "    <tspan class=\"displacy-tag\" dy=\"2em\" fill=\"currentColor\" x=\"4425\">ADP</tspan>\n",
       "</text>\n",
       "\n",
       "<text class=\"displacy-token\" fill=\"currentColor\" text-anchor=\"middle\" y=\"484.5\">\n",
       "    <tspan class=\"displacy-word\" fill=\"currentColor\" x=\"4600\">the</tspan>\n",
       "    <tspan class=\"displacy-tag\" dy=\"2em\" fill=\"currentColor\" x=\"4600\">DET</tspan>\n",
       "</text>\n",
       "\n",
       "<text class=\"displacy-token\" fill=\"currentColor\" text-anchor=\"middle\" y=\"484.5\">\n",
       "    <tspan class=\"displacy-word\" fill=\"currentColor\" x=\"4775\">prick</tspan>\n",
       "    <tspan class=\"displacy-tag\" dy=\"2em\" fill=\"currentColor\" x=\"4775\">NOUN</tspan>\n",
       "</text>\n",
       "\n",
       "<text class=\"displacy-token\" fill=\"currentColor\" text-anchor=\"middle\" y=\"484.5\">\n",
       "    <tspan class=\"displacy-word\" fill=\"currentColor\" x=\"4950\">from</tspan>\n",
       "    <tspan class=\"displacy-tag\" dy=\"2em\" fill=\"currentColor\" x=\"4950\">ADP</tspan>\n",
       "</text>\n",
       "\n",
       "<text class=\"displacy-token\" fill=\"currentColor\" text-anchor=\"middle\" y=\"484.5\">\n",
       "    <tspan class=\"displacy-word\" fill=\"currentColor\" x=\"5125\">the</tspan>\n",
       "    <tspan class=\"displacy-tag\" dy=\"2em\" fill=\"currentColor\" x=\"5125\">DET</tspan>\n",
       "</text>\n",
       "\n",
       "<text class=\"displacy-token\" fill=\"currentColor\" text-anchor=\"middle\" y=\"484.5\">\n",
       "    <tspan class=\"displacy-word\" fill=\"currentColor\" x=\"5300\">spindle</tspan>\n",
       "    <tspan class=\"displacy-tag\" dy=\"2em\" fill=\"currentColor\" x=\"5300\">NOUN</tspan>\n",
       "</text>\n",
       "\n",
       "<text class=\"displacy-token\" fill=\"currentColor\" text-anchor=\"middle\" y=\"484.5\">\n",
       "    <tspan class=\"displacy-word\" fill=\"currentColor\" x=\"5475\">of</tspan>\n",
       "    <tspan class=\"displacy-tag\" dy=\"2em\" fill=\"currentColor\" x=\"5475\">ADP</tspan>\n",
       "</text>\n",
       "\n",
       "<text class=\"displacy-token\" fill=\"currentColor\" text-anchor=\"middle\" y=\"484.5\">\n",
       "    <tspan class=\"displacy-word\" fill=\"currentColor\" x=\"5650\">a</tspan>\n",
       "    <tspan class=\"displacy-tag\" dy=\"2em\" fill=\"currentColor\" x=\"5650\">DET</tspan>\n",
       "</text>\n",
       "\n",
       "<text class=\"displacy-token\" fill=\"currentColor\" text-anchor=\"middle\" y=\"484.5\">\n",
       "    <tspan class=\"displacy-word\" fill=\"currentColor\" x=\"5825\">spinning</tspan>\n",
       "    <tspan class=\"displacy-tag\" dy=\"2em\" fill=\"currentColor\" x=\"5825\">VERB</tspan>\n",
       "</text>\n",
       "\n",
       "<text class=\"displacy-token\" fill=\"currentColor\" text-anchor=\"middle\" y=\"484.5\">\n",
       "    <tspan class=\"displacy-word\" fill=\"currentColor\" x=\"6000\">wheel</tspan>\n",
       "    <tspan class=\"displacy-tag\" dy=\"2em\" fill=\"currentColor\" x=\"6000\">NOUN</tspan>\n",
       "</text>\n",
       "\n",
       "<text class=\"displacy-token\" fill=\"currentColor\" text-anchor=\"middle\" y=\"484.5\">\n",
       "    <tspan class=\"displacy-word\" fill=\"currentColor\" x=\"6175\">because</tspan>\n",
       "    <tspan class=\"displacy-tag\" dy=\"2em\" fill=\"currentColor\" x=\"6175\">SCONJ</tspan>\n",
       "</text>\n",
       "\n",
       "<text class=\"displacy-token\" fill=\"currentColor\" text-anchor=\"middle\" y=\"484.5\">\n",
       "    <tspan class=\"displacy-word\" fill=\"currentColor\" x=\"6350\">her</tspan>\n",
       "    <tspan class=\"displacy-tag\" dy=\"2em\" fill=\"currentColor\" x=\"6350\">PRON</tspan>\n",
       "</text>\n",
       "\n",
       "<text class=\"displacy-token\" fill=\"currentColor\" text-anchor=\"middle\" y=\"484.5\">\n",
       "    <tspan class=\"displacy-word\" fill=\"currentColor\" x=\"6525\">parents</tspan>\n",
       "    <tspan class=\"displacy-tag\" dy=\"2em\" fill=\"currentColor\" x=\"6525\">NOUN</tspan>\n",
       "</text>\n",
       "\n",
       "<text class=\"displacy-token\" fill=\"currentColor\" text-anchor=\"middle\" y=\"484.5\">\n",
       "    <tspan class=\"displacy-word\" fill=\"currentColor\" x=\"6700\">did</tspan>\n",
       "    <tspan class=\"displacy-tag\" dy=\"2em\" fill=\"currentColor\" x=\"6700\">AUX</tspan>\n",
       "</text>\n",
       "\n",
       "<text class=\"displacy-token\" fill=\"currentColor\" text-anchor=\"middle\" y=\"484.5\">\n",
       "    <tspan class=\"displacy-word\" fill=\"currentColor\" x=\"6875\">not</tspan>\n",
       "    <tspan class=\"displacy-tag\" dy=\"2em\" fill=\"currentColor\" x=\"6875\">PART</tspan>\n",
       "</text>\n",
       "\n",
       "<text class=\"displacy-token\" fill=\"currentColor\" text-anchor=\"middle\" y=\"484.5\">\n",
       "    <tspan class=\"displacy-word\" fill=\"currentColor\" x=\"7050\">invite</tspan>\n",
       "    <tspan class=\"displacy-tag\" dy=\"2em\" fill=\"currentColor\" x=\"7050\">VERB</tspan>\n",
       "</text>\n",
       "\n",
       "<text class=\"displacy-token\" fill=\"currentColor\" text-anchor=\"middle\" y=\"484.5\">\n",
       "    <tspan class=\"displacy-word\" fill=\"currentColor\" x=\"7225\">the</tspan>\n",
       "    <tspan class=\"displacy-tag\" dy=\"2em\" fill=\"currentColor\" x=\"7225\">DET</tspan>\n",
       "</text>\n",
       "\n",
       "<text class=\"displacy-token\" fill=\"currentColor\" text-anchor=\"middle\" y=\"484.5\">\n",
       "    <tspan class=\"displacy-word\" fill=\"currentColor\" x=\"7400\">fairy</tspan>\n",
       "    <tspan class=\"displacy-tag\" dy=\"2em\" fill=\"currentColor\" x=\"7400\">NOUN</tspan>\n",
       "</text>\n",
       "\n",
       "<text class=\"displacy-token\" fill=\"currentColor\" text-anchor=\"middle\" y=\"484.5\">\n",
       "    <tspan class=\"displacy-word\" fill=\"currentColor\" x=\"7575\">to</tspan>\n",
       "    <tspan class=\"displacy-tag\" dy=\"2em\" fill=\"currentColor\" x=\"7575\">ADP</tspan>\n",
       "</text>\n",
       "\n",
       "<text class=\"displacy-token\" fill=\"currentColor\" text-anchor=\"middle\" y=\"484.5\">\n",
       "    <tspan class=\"displacy-word\" fill=\"currentColor\" x=\"7750\">her</tspan>\n",
       "    <tspan class=\"displacy-tag\" dy=\"2em\" fill=\"currentColor\" x=\"7750\">PRON</tspan>\n",
       "</text>\n",
       "\n",
       "<text class=\"displacy-token\" fill=\"currentColor\" text-anchor=\"middle\" y=\"484.5\">\n",
       "    <tspan class=\"displacy-word\" fill=\"currentColor\" x=\"7925\">Christening.</tspan>\n",
       "    <tspan class=\"displacy-tag\" dy=\"2em\" fill=\"currentColor\" x=\"7925\">NOUN</tspan>\n",
       "</text>\n",
       "\n",
       "<g class=\"displacy-arrow\">\n",
       "    <path class=\"displacy-arc\" id=\"arrow-2c053ec6a07e4cf681d4be3acaf8fea7-0-0\" stroke-width=\"2px\" d=\"M70,439.5 C70,352.0 205.0,352.0 205.0,439.5\" fill=\"none\" stroke=\"currentColor\"/>\n",
       "    <text dy=\"1.25em\" style=\"font-size: 0.8em; letter-spacing: 1px\">\n",
       "        <textPath xlink:href=\"#arrow-2c053ec6a07e4cf681d4be3acaf8fea7-0-0\" class=\"displacy-label\" startOffset=\"50%\" side=\"left\" fill=\"currentColor\" text-anchor=\"middle\">nsubj</textPath>\n",
       "    </text>\n",
       "    <path class=\"displacy-arrowhead\" d=\"M70,441.5 L62,429.5 78,429.5\" fill=\"currentColor\"/>\n",
       "</g>\n",
       "\n",
       "<g class=\"displacy-arrow\">\n",
       "    <path class=\"displacy-arc\" id=\"arrow-2c053ec6a07e4cf681d4be3acaf8fea7-0-1\" stroke-width=\"2px\" d=\"M420,439.5 C420,352.0 555.0,352.0 555.0,439.5\" fill=\"none\" stroke=\"currentColor\"/>\n",
       "    <text dy=\"1.25em\" style=\"font-size: 0.8em; letter-spacing: 1px\">\n",
       "        <textPath xlink:href=\"#arrow-2c053ec6a07e4cf681d4be3acaf8fea7-0-1\" class=\"displacy-label\" startOffset=\"50%\" side=\"left\" fill=\"currentColor\" text-anchor=\"middle\">det</textPath>\n",
       "    </text>\n",
       "    <path class=\"displacy-arrowhead\" d=\"M420,441.5 L412,429.5 428,429.5\" fill=\"currentColor\"/>\n",
       "</g>\n",
       "\n",
       "<g class=\"displacy-arrow\">\n",
       "    <path class=\"displacy-arc\" id=\"arrow-2c053ec6a07e4cf681d4be3acaf8fea7-0-2\" stroke-width=\"2px\" d=\"M245,439.5 C245,264.5 560.0,264.5 560.0,439.5\" fill=\"none\" stroke=\"currentColor\"/>\n",
       "    <text dy=\"1.25em\" style=\"font-size: 0.8em; letter-spacing: 1px\">\n",
       "        <textPath xlink:href=\"#arrow-2c053ec6a07e4cf681d4be3acaf8fea7-0-2\" class=\"displacy-label\" startOffset=\"50%\" side=\"left\" fill=\"currentColor\" text-anchor=\"middle\">attr</textPath>\n",
       "    </text>\n",
       "    <path class=\"displacy-arrowhead\" d=\"M560.0,441.5 L568.0,429.5 552.0,429.5\" fill=\"currentColor\"/>\n",
       "</g>\n",
       "\n",
       "<g class=\"displacy-arrow\">\n",
       "    <path class=\"displacy-arc\" id=\"arrow-2c053ec6a07e4cf681d4be3acaf8fea7-0-3\" stroke-width=\"2px\" d=\"M595,439.5 C595,352.0 730.0,352.0 730.0,439.5\" fill=\"none\" stroke=\"currentColor\"/>\n",
       "    <text dy=\"1.25em\" style=\"font-size: 0.8em; letter-spacing: 1px\">\n",
       "        <textPath xlink:href=\"#arrow-2c053ec6a07e4cf681d4be3acaf8fea7-0-3\" class=\"displacy-label\" startOffset=\"50%\" side=\"left\" fill=\"currentColor\" text-anchor=\"middle\">prep</textPath>\n",
       "    </text>\n",
       "    <path class=\"displacy-arrowhead\" d=\"M730.0,441.5 L738.0,429.5 722.0,429.5\" fill=\"currentColor\"/>\n",
       "</g>\n",
       "\n",
       "<g class=\"displacy-arrow\">\n",
       "    <path class=\"displacy-arc\" id=\"arrow-2c053ec6a07e4cf681d4be3acaf8fea7-0-4\" stroke-width=\"2px\" d=\"M945,439.5 C945,352.0 1080.0,352.0 1080.0,439.5\" fill=\"none\" stroke=\"currentColor\"/>\n",
       "    <text dy=\"1.25em\" style=\"font-size: 0.8em; letter-spacing: 1px\">\n",
       "        <textPath xlink:href=\"#arrow-2c053ec6a07e4cf681d4be3acaf8fea7-0-4\" class=\"displacy-label\" startOffset=\"50%\" side=\"left\" fill=\"currentColor\" text-anchor=\"middle\">compound</textPath>\n",
       "    </text>\n",
       "    <path class=\"displacy-arrowhead\" d=\"M945,441.5 L937,429.5 953,429.5\" fill=\"currentColor\"/>\n",
       "</g>\n",
       "\n",
       "<g class=\"displacy-arrow\">\n",
       "    <path class=\"displacy-arc\" id=\"arrow-2c053ec6a07e4cf681d4be3acaf8fea7-0-5\" stroke-width=\"2px\" d=\"M770,439.5 C770,264.5 1085.0,264.5 1085.0,439.5\" fill=\"none\" stroke=\"currentColor\"/>\n",
       "    <text dy=\"1.25em\" style=\"font-size: 0.8em; letter-spacing: 1px\">\n",
       "        <textPath xlink:href=\"#arrow-2c053ec6a07e4cf681d4be3acaf8fea7-0-5\" class=\"displacy-label\" startOffset=\"50%\" side=\"left\" fill=\"currentColor\" text-anchor=\"middle\">pobj</textPath>\n",
       "    </text>\n",
       "    <path class=\"displacy-arrowhead\" d=\"M1085.0,441.5 L1093.0,429.5 1077.0,429.5\" fill=\"currentColor\"/>\n",
       "</g>\n",
       "\n",
       "<g class=\"displacy-arrow\">\n",
       "    <path class=\"displacy-arc\" id=\"arrow-2c053ec6a07e4cf681d4be3acaf8fea7-0-6\" stroke-width=\"2px\" d=\"M1295,439.5 C1295,264.5 1785.0,264.5 1785.0,439.5\" fill=\"none\" stroke=\"currentColor\"/>\n",
       "    <text dy=\"1.25em\" style=\"font-size: 0.8em; letter-spacing: 1px\">\n",
       "        <textPath xlink:href=\"#arrow-2c053ec6a07e4cf681d4be3acaf8fea7-0-6\" class=\"displacy-label\" startOffset=\"50%\" side=\"left\" fill=\"currentColor\" text-anchor=\"middle\">det</textPath>\n",
       "    </text>\n",
       "    <path class=\"displacy-arrowhead\" d=\"M1295,441.5 L1287,429.5 1303,429.5\" fill=\"currentColor\"/>\n",
       "</g>\n",
       "\n",
       "<g class=\"displacy-arrow\">\n",
       "    <path class=\"displacy-arc\" id=\"arrow-2c053ec6a07e4cf681d4be3acaf8fea7-0-7\" stroke-width=\"2px\" d=\"M1470,439.5 C1470,352.0 1605.0,352.0 1605.0,439.5\" fill=\"none\" stroke=\"currentColor\"/>\n",
       "    <text dy=\"1.25em\" style=\"font-size: 0.8em; letter-spacing: 1px\">\n",
       "        <textPath xlink:href=\"#arrow-2c053ec6a07e4cf681d4be3acaf8fea7-0-7\" class=\"displacy-label\" startOffset=\"50%\" side=\"left\" fill=\"currentColor\" text-anchor=\"middle\">advmod</textPath>\n",
       "    </text>\n",
       "    <path class=\"displacy-arrowhead\" d=\"M1470,441.5 L1462,429.5 1478,429.5\" fill=\"currentColor\"/>\n",
       "</g>\n",
       "\n",
       "<g class=\"displacy-arrow\">\n",
       "    <path class=\"displacy-arc\" id=\"arrow-2c053ec6a07e4cf681d4be3acaf8fea7-0-8\" stroke-width=\"2px\" d=\"M1645,439.5 C1645,352.0 1780.0,352.0 1780.0,439.5\" fill=\"none\" stroke=\"currentColor\"/>\n",
       "    <text dy=\"1.25em\" style=\"font-size: 0.8em; letter-spacing: 1px\">\n",
       "        <textPath xlink:href=\"#arrow-2c053ec6a07e4cf681d4be3acaf8fea7-0-8\" class=\"displacy-label\" startOffset=\"50%\" side=\"left\" fill=\"currentColor\" text-anchor=\"middle\">amod</textPath>\n",
       "    </text>\n",
       "    <path class=\"displacy-arrowhead\" d=\"M1645,441.5 L1637,429.5 1653,429.5\" fill=\"currentColor\"/>\n",
       "</g>\n",
       "\n",
       "<g class=\"displacy-arrow\">\n",
       "    <path class=\"displacy-arc\" id=\"arrow-2c053ec6a07e4cf681d4be3acaf8fea7-0-9\" stroke-width=\"2px\" d=\"M595,439.5 C595,177.0 1790.0,177.0 1790.0,439.5\" fill=\"none\" stroke=\"currentColor\"/>\n",
       "    <text dy=\"1.25em\" style=\"font-size: 0.8em; letter-spacing: 1px\">\n",
       "        <textPath xlink:href=\"#arrow-2c053ec6a07e4cf681d4be3acaf8fea7-0-9\" class=\"displacy-label\" startOffset=\"50%\" side=\"left\" fill=\"currentColor\" text-anchor=\"middle\">appos</textPath>\n",
       "    </text>\n",
       "    <path class=\"displacy-arrowhead\" d=\"M1790.0,441.5 L1798.0,429.5 1782.0,429.5\" fill=\"currentColor\"/>\n",
       "</g>\n",
       "\n",
       "<g class=\"displacy-arrow\">\n",
       "    <path class=\"displacy-arc\" id=\"arrow-2c053ec6a07e4cf681d4be3acaf8fea7-0-10\" stroke-width=\"2px\" d=\"M1820,439.5 C1820,352.0 1955.0,352.0 1955.0,439.5\" fill=\"none\" stroke=\"currentColor\"/>\n",
       "    <text dy=\"1.25em\" style=\"font-size: 0.8em; letter-spacing: 1px\">\n",
       "        <textPath xlink:href=\"#arrow-2c053ec6a07e4cf681d4be3acaf8fea7-0-10\" class=\"displacy-label\" startOffset=\"50%\" side=\"left\" fill=\"currentColor\" text-anchor=\"middle\">prep</textPath>\n",
       "    </text>\n",
       "    <path class=\"displacy-arrowhead\" d=\"M1955.0,441.5 L1963.0,429.5 1947.0,429.5\" fill=\"currentColor\"/>\n",
       "</g>\n",
       "\n",
       "<g class=\"displacy-arrow\">\n",
       "    <path class=\"displacy-arc\" id=\"arrow-2c053ec6a07e4cf681d4be3acaf8fea7-0-11\" stroke-width=\"2px\" d=\"M2170,439.5 C2170,352.0 2305.0,352.0 2305.0,439.5\" fill=\"none\" stroke=\"currentColor\"/>\n",
       "    <text dy=\"1.25em\" style=\"font-size: 0.8em; letter-spacing: 1px\">\n",
       "        <textPath xlink:href=\"#arrow-2c053ec6a07e4cf681d4be3acaf8fea7-0-11\" class=\"displacy-label\" startOffset=\"50%\" side=\"left\" fill=\"currentColor\" text-anchor=\"middle\">det</textPath>\n",
       "    </text>\n",
       "    <path class=\"displacy-arrowhead\" d=\"M2170,441.5 L2162,429.5 2178,429.5\" fill=\"currentColor\"/>\n",
       "</g>\n",
       "\n",
       "<g class=\"displacy-arrow\">\n",
       "    <path class=\"displacy-arc\" id=\"arrow-2c053ec6a07e4cf681d4be3acaf8fea7-0-12\" stroke-width=\"2px\" d=\"M1995,439.5 C1995,264.5 2310.0,264.5 2310.0,439.5\" fill=\"none\" stroke=\"currentColor\"/>\n",
       "    <text dy=\"1.25em\" style=\"font-size: 0.8em; letter-spacing: 1px\">\n",
       "        <textPath xlink:href=\"#arrow-2c053ec6a07e4cf681d4be3acaf8fea7-0-12\" class=\"displacy-label\" startOffset=\"50%\" side=\"left\" fill=\"currentColor\" text-anchor=\"middle\">pobj</textPath>\n",
       "    </text>\n",
       "    <path class=\"displacy-arrowhead\" d=\"M2310.0,441.5 L2318.0,429.5 2302.0,429.5\" fill=\"currentColor\"/>\n",
       "</g>\n",
       "\n",
       "<g class=\"displacy-arrow\">\n",
       "    <path class=\"displacy-arc\" id=\"arrow-2c053ec6a07e4cf681d4be3acaf8fea7-0-13\" stroke-width=\"2px\" d=\"M2345,439.5 C2345,352.0 2480.0,352.0 2480.0,439.5\" fill=\"none\" stroke=\"currentColor\"/>\n",
       "    <text dy=\"1.25em\" style=\"font-size: 0.8em; letter-spacing: 1px\">\n",
       "        <textPath xlink:href=\"#arrow-2c053ec6a07e4cf681d4be3acaf8fea7-0-13\" class=\"displacy-label\" startOffset=\"50%\" side=\"left\" fill=\"currentColor\" text-anchor=\"middle\">cc</textPath>\n",
       "    </text>\n",
       "    <path class=\"displacy-arrowhead\" d=\"M2480.0,441.5 L2488.0,429.5 2472.0,429.5\" fill=\"currentColor\"/>\n",
       "</g>\n",
       "\n",
       "<g class=\"displacy-arrow\">\n",
       "    <path class=\"displacy-arc\" id=\"arrow-2c053ec6a07e4cf681d4be3acaf8fea7-0-14\" stroke-width=\"2px\" d=\"M2345,439.5 C2345,264.5 2660.0,264.5 2660.0,439.5\" fill=\"none\" stroke=\"currentColor\"/>\n",
       "    <text dy=\"1.25em\" style=\"font-size: 0.8em; letter-spacing: 1px\">\n",
       "        <textPath xlink:href=\"#arrow-2c053ec6a07e4cf681d4be3acaf8fea7-0-14\" class=\"displacy-label\" startOffset=\"50%\" side=\"left\" fill=\"currentColor\" text-anchor=\"middle\">conj</textPath>\n",
       "    </text>\n",
       "    <path class=\"displacy-arrowhead\" d=\"M2660.0,441.5 L2668.0,429.5 2652.0,429.5\" fill=\"currentColor\"/>\n",
       "</g>\n",
       "\n",
       "<g class=\"displacy-arrow\">\n",
       "    <path class=\"displacy-arc\" id=\"arrow-2c053ec6a07e4cf681d4be3acaf8fea7-0-15\" stroke-width=\"2px\" d=\"M2870,439.5 C2870,264.5 3185.0,264.5 3185.0,439.5\" fill=\"none\" stroke=\"currentColor\"/>\n",
       "    <text dy=\"1.25em\" style=\"font-size: 0.8em; letter-spacing: 1px\">\n",
       "        <textPath xlink:href=\"#arrow-2c053ec6a07e4cf681d4be3acaf8fea7-0-15\" class=\"displacy-label\" startOffset=\"50%\" side=\"left\" fill=\"currentColor\" text-anchor=\"middle\">nsubjpass</textPath>\n",
       "    </text>\n",
       "    <path class=\"displacy-arrowhead\" d=\"M2870,441.5 L2862,429.5 2878,429.5\" fill=\"currentColor\"/>\n",
       "</g>\n",
       "\n",
       "<g class=\"displacy-arrow\">\n",
       "    <path class=\"displacy-arc\" id=\"arrow-2c053ec6a07e4cf681d4be3acaf8fea7-0-16\" stroke-width=\"2px\" d=\"M3045,439.5 C3045,352.0 3180.0,352.0 3180.0,439.5\" fill=\"none\" stroke=\"currentColor\"/>\n",
       "    <text dy=\"1.25em\" style=\"font-size: 0.8em; letter-spacing: 1px\">\n",
       "        <textPath xlink:href=\"#arrow-2c053ec6a07e4cf681d4be3acaf8fea7-0-16\" class=\"displacy-label\" startOffset=\"50%\" side=\"left\" fill=\"currentColor\" text-anchor=\"middle\">auxpass</textPath>\n",
       "    </text>\n",
       "    <path class=\"displacy-arrowhead\" d=\"M3045,441.5 L3037,429.5 3053,429.5\" fill=\"currentColor\"/>\n",
       "</g>\n",
       "\n",
       "<g class=\"displacy-arrow\">\n",
       "    <path class=\"displacy-arc\" id=\"arrow-2c053ec6a07e4cf681d4be3acaf8fea7-0-17\" stroke-width=\"2px\" d=\"M1820,439.5 C1820,177.0 3190.0,177.0 3190.0,439.5\" fill=\"none\" stroke=\"currentColor\"/>\n",
       "    <text dy=\"1.25em\" style=\"font-size: 0.8em; letter-spacing: 1px\">\n",
       "        <textPath xlink:href=\"#arrow-2c053ec6a07e4cf681d4be3acaf8fea7-0-17\" class=\"displacy-label\" startOffset=\"50%\" side=\"left\" fill=\"currentColor\" text-anchor=\"middle\">relcl</textPath>\n",
       "    </text>\n",
       "    <path class=\"displacy-arrowhead\" d=\"M3190.0,441.5 L3198.0,429.5 3182.0,429.5\" fill=\"currentColor\"/>\n",
       "</g>\n",
       "\n",
       "<g class=\"displacy-arrow\">\n",
       "    <path class=\"displacy-arc\" id=\"arrow-2c053ec6a07e4cf681d4be3acaf8fea7-0-18\" stroke-width=\"2px\" d=\"M3220,439.5 C3220,352.0 3355.0,352.0 3355.0,439.5\" fill=\"none\" stroke=\"currentColor\"/>\n",
       "    <text dy=\"1.25em\" style=\"font-size: 0.8em; letter-spacing: 1px\">\n",
       "        <textPath xlink:href=\"#arrow-2c053ec6a07e4cf681d4be3acaf8fea7-0-18\" class=\"displacy-label\" startOffset=\"50%\" side=\"left\" fill=\"currentColor\" text-anchor=\"middle\">agent</textPath>\n",
       "    </text>\n",
       "    <path class=\"displacy-arrowhead\" d=\"M3355.0,441.5 L3363.0,429.5 3347.0,429.5\" fill=\"currentColor\"/>\n",
       "</g>\n",
       "\n",
       "<g class=\"displacy-arrow\">\n",
       "    <path class=\"displacy-arc\" id=\"arrow-2c053ec6a07e4cf681d4be3acaf8fea7-0-19\" stroke-width=\"2px\" d=\"M3570,439.5 C3570,264.5 3885.0,264.5 3885.0,439.5\" fill=\"none\" stroke=\"currentColor\"/>\n",
       "    <text dy=\"1.25em\" style=\"font-size: 0.8em; letter-spacing: 1px\">\n",
       "        <textPath xlink:href=\"#arrow-2c053ec6a07e4cf681d4be3acaf8fea7-0-19\" class=\"displacy-label\" startOffset=\"50%\" side=\"left\" fill=\"currentColor\" text-anchor=\"middle\">det</textPath>\n",
       "    </text>\n",
       "    <path class=\"displacy-arrowhead\" d=\"M3570,441.5 L3562,429.5 3578,429.5\" fill=\"currentColor\"/>\n",
       "</g>\n",
       "\n",
       "<g class=\"displacy-arrow\">\n",
       "    <path class=\"displacy-arc\" id=\"arrow-2c053ec6a07e4cf681d4be3acaf8fea7-0-20\" stroke-width=\"2px\" d=\"M3745,439.5 C3745,352.0 3880.0,352.0 3880.0,439.5\" fill=\"none\" stroke=\"currentColor\"/>\n",
       "    <text dy=\"1.25em\" style=\"font-size: 0.8em; letter-spacing: 1px\">\n",
       "        <textPath xlink:href=\"#arrow-2c053ec6a07e4cf681d4be3acaf8fea7-0-20\" class=\"displacy-label\" startOffset=\"50%\" side=\"left\" fill=\"currentColor\" text-anchor=\"middle\">amod</textPath>\n",
       "    </text>\n",
       "    <path class=\"displacy-arrowhead\" d=\"M3745,441.5 L3737,429.5 3753,429.5\" fill=\"currentColor\"/>\n",
       "</g>\n",
       "\n",
       "<g class=\"displacy-arrow\">\n",
       "    <path class=\"displacy-arc\" id=\"arrow-2c053ec6a07e4cf681d4be3acaf8fea7-0-21\" stroke-width=\"2px\" d=\"M3395,439.5 C3395,177.0 3890.0,177.0 3890.0,439.5\" fill=\"none\" stroke=\"currentColor\"/>\n",
       "    <text dy=\"1.25em\" style=\"font-size: 0.8em; letter-spacing: 1px\">\n",
       "        <textPath xlink:href=\"#arrow-2c053ec6a07e4cf681d4be3acaf8fea7-0-21\" class=\"displacy-label\" startOffset=\"50%\" side=\"left\" fill=\"currentColor\" text-anchor=\"middle\">pobj</textPath>\n",
       "    </text>\n",
       "    <path class=\"displacy-arrowhead\" d=\"M3890.0,441.5 L3898.0,429.5 3882.0,429.5\" fill=\"currentColor\"/>\n",
       "</g>\n",
       "\n",
       "<g class=\"displacy-arrow\">\n",
       "    <path class=\"displacy-arc\" id=\"arrow-2c053ec6a07e4cf681d4be3acaf8fea7-0-22\" stroke-width=\"2px\" d=\"M4095,439.5 C4095,352.0 4230.0,352.0 4230.0,439.5\" fill=\"none\" stroke=\"currentColor\"/>\n",
       "    <text dy=\"1.25em\" style=\"font-size: 0.8em; letter-spacing: 1px\">\n",
       "        <textPath xlink:href=\"#arrow-2c053ec6a07e4cf681d4be3acaf8fea7-0-22\" class=\"displacy-label\" startOffset=\"50%\" side=\"left\" fill=\"currentColor\" text-anchor=\"middle\">aux</textPath>\n",
       "    </text>\n",
       "    <path class=\"displacy-arrowhead\" d=\"M4095,441.5 L4087,429.5 4103,429.5\" fill=\"currentColor\"/>\n",
       "</g>\n",
       "\n",
       "<g class=\"displacy-arrow\">\n",
       "    <path class=\"displacy-arc\" id=\"arrow-2c053ec6a07e4cf681d4be3acaf8fea7-0-23\" stroke-width=\"2px\" d=\"M595,439.5 C595,89.5 4245.0,89.5 4245.0,439.5\" fill=\"none\" stroke=\"currentColor\"/>\n",
       "    <text dy=\"1.25em\" style=\"font-size: 0.8em; letter-spacing: 1px\">\n",
       "        <textPath xlink:href=\"#arrow-2c053ec6a07e4cf681d4be3acaf8fea7-0-23\" class=\"displacy-label\" startOffset=\"50%\" side=\"left\" fill=\"currentColor\" text-anchor=\"middle\">relcl</textPath>\n",
       "    </text>\n",
       "    <path class=\"displacy-arrowhead\" d=\"M4245.0,441.5 L4253.0,429.5 4237.0,429.5\" fill=\"currentColor\"/>\n",
       "</g>\n",
       "\n",
       "<g class=\"displacy-arrow\">\n",
       "    <path class=\"displacy-arc\" id=\"arrow-2c053ec6a07e4cf681d4be3acaf8fea7-0-24\" stroke-width=\"2px\" d=\"M4270,439.5 C4270,352.0 4405.0,352.0 4405.0,439.5\" fill=\"none\" stroke=\"currentColor\"/>\n",
       "    <text dy=\"1.25em\" style=\"font-size: 0.8em; letter-spacing: 1px\">\n",
       "        <textPath xlink:href=\"#arrow-2c053ec6a07e4cf681d4be3acaf8fea7-0-24\" class=\"displacy-label\" startOffset=\"50%\" side=\"left\" fill=\"currentColor\" text-anchor=\"middle\">prep</textPath>\n",
       "    </text>\n",
       "    <path class=\"displacy-arrowhead\" d=\"M4405.0,441.5 L4413.0,429.5 4397.0,429.5\" fill=\"currentColor\"/>\n",
       "</g>\n",
       "\n",
       "<g class=\"displacy-arrow\">\n",
       "    <path class=\"displacy-arc\" id=\"arrow-2c053ec6a07e4cf681d4be3acaf8fea7-0-25\" stroke-width=\"2px\" d=\"M4620,439.5 C4620,352.0 4755.0,352.0 4755.0,439.5\" fill=\"none\" stroke=\"currentColor\"/>\n",
       "    <text dy=\"1.25em\" style=\"font-size: 0.8em; letter-spacing: 1px\">\n",
       "        <textPath xlink:href=\"#arrow-2c053ec6a07e4cf681d4be3acaf8fea7-0-25\" class=\"displacy-label\" startOffset=\"50%\" side=\"left\" fill=\"currentColor\" text-anchor=\"middle\">det</textPath>\n",
       "    </text>\n",
       "    <path class=\"displacy-arrowhead\" d=\"M4620,441.5 L4612,429.5 4628,429.5\" fill=\"currentColor\"/>\n",
       "</g>\n",
       "\n",
       "<g class=\"displacy-arrow\">\n",
       "    <path class=\"displacy-arc\" id=\"arrow-2c053ec6a07e4cf681d4be3acaf8fea7-0-26\" stroke-width=\"2px\" d=\"M4445,439.5 C4445,264.5 4760.0,264.5 4760.0,439.5\" fill=\"none\" stroke=\"currentColor\"/>\n",
       "    <text dy=\"1.25em\" style=\"font-size: 0.8em; letter-spacing: 1px\">\n",
       "        <textPath xlink:href=\"#arrow-2c053ec6a07e4cf681d4be3acaf8fea7-0-26\" class=\"displacy-label\" startOffset=\"50%\" side=\"left\" fill=\"currentColor\" text-anchor=\"middle\">pobj</textPath>\n",
       "    </text>\n",
       "    <path class=\"displacy-arrowhead\" d=\"M4760.0,441.5 L4768.0,429.5 4752.0,429.5\" fill=\"currentColor\"/>\n",
       "</g>\n",
       "\n",
       "<g class=\"displacy-arrow\">\n",
       "    <path class=\"displacy-arc\" id=\"arrow-2c053ec6a07e4cf681d4be3acaf8fea7-0-27\" stroke-width=\"2px\" d=\"M4270,439.5 C4270,177.0 4940.0,177.0 4940.0,439.5\" fill=\"none\" stroke=\"currentColor\"/>\n",
       "    <text dy=\"1.25em\" style=\"font-size: 0.8em; letter-spacing: 1px\">\n",
       "        <textPath xlink:href=\"#arrow-2c053ec6a07e4cf681d4be3acaf8fea7-0-27\" class=\"displacy-label\" startOffset=\"50%\" side=\"left\" fill=\"currentColor\" text-anchor=\"middle\">prep</textPath>\n",
       "    </text>\n",
       "    <path class=\"displacy-arrowhead\" d=\"M4940.0,441.5 L4948.0,429.5 4932.0,429.5\" fill=\"currentColor\"/>\n",
       "</g>\n",
       "\n",
       "<g class=\"displacy-arrow\">\n",
       "    <path class=\"displacy-arc\" id=\"arrow-2c053ec6a07e4cf681d4be3acaf8fea7-0-28\" stroke-width=\"2px\" d=\"M5145,439.5 C5145,352.0 5280.0,352.0 5280.0,439.5\" fill=\"none\" stroke=\"currentColor\"/>\n",
       "    <text dy=\"1.25em\" style=\"font-size: 0.8em; letter-spacing: 1px\">\n",
       "        <textPath xlink:href=\"#arrow-2c053ec6a07e4cf681d4be3acaf8fea7-0-28\" class=\"displacy-label\" startOffset=\"50%\" side=\"left\" fill=\"currentColor\" text-anchor=\"middle\">det</textPath>\n",
       "    </text>\n",
       "    <path class=\"displacy-arrowhead\" d=\"M5145,441.5 L5137,429.5 5153,429.5\" fill=\"currentColor\"/>\n",
       "</g>\n",
       "\n",
       "<g class=\"displacy-arrow\">\n",
       "    <path class=\"displacy-arc\" id=\"arrow-2c053ec6a07e4cf681d4be3acaf8fea7-0-29\" stroke-width=\"2px\" d=\"M4970,439.5 C4970,264.5 5285.0,264.5 5285.0,439.5\" fill=\"none\" stroke=\"currentColor\"/>\n",
       "    <text dy=\"1.25em\" style=\"font-size: 0.8em; letter-spacing: 1px\">\n",
       "        <textPath xlink:href=\"#arrow-2c053ec6a07e4cf681d4be3acaf8fea7-0-29\" class=\"displacy-label\" startOffset=\"50%\" side=\"left\" fill=\"currentColor\" text-anchor=\"middle\">pobj</textPath>\n",
       "    </text>\n",
       "    <path class=\"displacy-arrowhead\" d=\"M5285.0,441.5 L5293.0,429.5 5277.0,429.5\" fill=\"currentColor\"/>\n",
       "</g>\n",
       "\n",
       "<g class=\"displacy-arrow\">\n",
       "    <path class=\"displacy-arc\" id=\"arrow-2c053ec6a07e4cf681d4be3acaf8fea7-0-30\" stroke-width=\"2px\" d=\"M5320,439.5 C5320,352.0 5455.0,352.0 5455.0,439.5\" fill=\"none\" stroke=\"currentColor\"/>\n",
       "    <text dy=\"1.25em\" style=\"font-size: 0.8em; letter-spacing: 1px\">\n",
       "        <textPath xlink:href=\"#arrow-2c053ec6a07e4cf681d4be3acaf8fea7-0-30\" class=\"displacy-label\" startOffset=\"50%\" side=\"left\" fill=\"currentColor\" text-anchor=\"middle\">prep</textPath>\n",
       "    </text>\n",
       "    <path class=\"displacy-arrowhead\" d=\"M5455.0,441.5 L5463.0,429.5 5447.0,429.5\" fill=\"currentColor\"/>\n",
       "</g>\n",
       "\n",
       "<g class=\"displacy-arrow\">\n",
       "    <path class=\"displacy-arc\" id=\"arrow-2c053ec6a07e4cf681d4be3acaf8fea7-0-31\" stroke-width=\"2px\" d=\"M5670,439.5 C5670,264.5 5985.0,264.5 5985.0,439.5\" fill=\"none\" stroke=\"currentColor\"/>\n",
       "    <text dy=\"1.25em\" style=\"font-size: 0.8em; letter-spacing: 1px\">\n",
       "        <textPath xlink:href=\"#arrow-2c053ec6a07e4cf681d4be3acaf8fea7-0-31\" class=\"displacy-label\" startOffset=\"50%\" side=\"left\" fill=\"currentColor\" text-anchor=\"middle\">det</textPath>\n",
       "    </text>\n",
       "    <path class=\"displacy-arrowhead\" d=\"M5670,441.5 L5662,429.5 5678,429.5\" fill=\"currentColor\"/>\n",
       "</g>\n",
       "\n",
       "<g class=\"displacy-arrow\">\n",
       "    <path class=\"displacy-arc\" id=\"arrow-2c053ec6a07e4cf681d4be3acaf8fea7-0-32\" stroke-width=\"2px\" d=\"M5845,439.5 C5845,352.0 5980.0,352.0 5980.0,439.5\" fill=\"none\" stroke=\"currentColor\"/>\n",
       "    <text dy=\"1.25em\" style=\"font-size: 0.8em; letter-spacing: 1px\">\n",
       "        <textPath xlink:href=\"#arrow-2c053ec6a07e4cf681d4be3acaf8fea7-0-32\" class=\"displacy-label\" startOffset=\"50%\" side=\"left\" fill=\"currentColor\" text-anchor=\"middle\">amod</textPath>\n",
       "    </text>\n",
       "    <path class=\"displacy-arrowhead\" d=\"M5845,441.5 L5837,429.5 5853,429.5\" fill=\"currentColor\"/>\n",
       "</g>\n",
       "\n",
       "<g class=\"displacy-arrow\">\n",
       "    <path class=\"displacy-arc\" id=\"arrow-2c053ec6a07e4cf681d4be3acaf8fea7-0-33\" stroke-width=\"2px\" d=\"M5495,439.5 C5495,177.0 5990.0,177.0 5990.0,439.5\" fill=\"none\" stroke=\"currentColor\"/>\n",
       "    <text dy=\"1.25em\" style=\"font-size: 0.8em; letter-spacing: 1px\">\n",
       "        <textPath xlink:href=\"#arrow-2c053ec6a07e4cf681d4be3acaf8fea7-0-33\" class=\"displacy-label\" startOffset=\"50%\" side=\"left\" fill=\"currentColor\" text-anchor=\"middle\">pobj</textPath>\n",
       "    </text>\n",
       "    <path class=\"displacy-arrowhead\" d=\"M5990.0,441.5 L5998.0,429.5 5982.0,429.5\" fill=\"currentColor\"/>\n",
       "</g>\n",
       "\n",
       "<g class=\"displacy-arrow\">\n",
       "    <path class=\"displacy-arc\" id=\"arrow-2c053ec6a07e4cf681d4be3acaf8fea7-0-34\" stroke-width=\"2px\" d=\"M6195,439.5 C6195,89.5 7045.0,89.5 7045.0,439.5\" fill=\"none\" stroke=\"currentColor\"/>\n",
       "    <text dy=\"1.25em\" style=\"font-size: 0.8em; letter-spacing: 1px\">\n",
       "        <textPath xlink:href=\"#arrow-2c053ec6a07e4cf681d4be3acaf8fea7-0-34\" class=\"displacy-label\" startOffset=\"50%\" side=\"left\" fill=\"currentColor\" text-anchor=\"middle\">mark</textPath>\n",
       "    </text>\n",
       "    <path class=\"displacy-arrowhead\" d=\"M6195,441.5 L6187,429.5 6203,429.5\" fill=\"currentColor\"/>\n",
       "</g>\n",
       "\n",
       "<g class=\"displacy-arrow\">\n",
       "    <path class=\"displacy-arc\" id=\"arrow-2c053ec6a07e4cf681d4be3acaf8fea7-0-35\" stroke-width=\"2px\" d=\"M6370,439.5 C6370,352.0 6505.0,352.0 6505.0,439.5\" fill=\"none\" stroke=\"currentColor\"/>\n",
       "    <text dy=\"1.25em\" style=\"font-size: 0.8em; letter-spacing: 1px\">\n",
       "        <textPath xlink:href=\"#arrow-2c053ec6a07e4cf681d4be3acaf8fea7-0-35\" class=\"displacy-label\" startOffset=\"50%\" side=\"left\" fill=\"currentColor\" text-anchor=\"middle\">poss</textPath>\n",
       "    </text>\n",
       "    <path class=\"displacy-arrowhead\" d=\"M6370,441.5 L6362,429.5 6378,429.5\" fill=\"currentColor\"/>\n",
       "</g>\n",
       "\n",
       "<g class=\"displacy-arrow\">\n",
       "    <path class=\"displacy-arc\" id=\"arrow-2c053ec6a07e4cf681d4be3acaf8fea7-0-36\" stroke-width=\"2px\" d=\"M6545,439.5 C6545,177.0 7040.0,177.0 7040.0,439.5\" fill=\"none\" stroke=\"currentColor\"/>\n",
       "    <text dy=\"1.25em\" style=\"font-size: 0.8em; letter-spacing: 1px\">\n",
       "        <textPath xlink:href=\"#arrow-2c053ec6a07e4cf681d4be3acaf8fea7-0-36\" class=\"displacy-label\" startOffset=\"50%\" side=\"left\" fill=\"currentColor\" text-anchor=\"middle\">nsubj</textPath>\n",
       "    </text>\n",
       "    <path class=\"displacy-arrowhead\" d=\"M6545,441.5 L6537,429.5 6553,429.5\" fill=\"currentColor\"/>\n",
       "</g>\n",
       "\n",
       "<g class=\"displacy-arrow\">\n",
       "    <path class=\"displacy-arc\" id=\"arrow-2c053ec6a07e4cf681d4be3acaf8fea7-0-37\" stroke-width=\"2px\" d=\"M6720,439.5 C6720,264.5 7035.0,264.5 7035.0,439.5\" fill=\"none\" stroke=\"currentColor\"/>\n",
       "    <text dy=\"1.25em\" style=\"font-size: 0.8em; letter-spacing: 1px\">\n",
       "        <textPath xlink:href=\"#arrow-2c053ec6a07e4cf681d4be3acaf8fea7-0-37\" class=\"displacy-label\" startOffset=\"50%\" side=\"left\" fill=\"currentColor\" text-anchor=\"middle\">aux</textPath>\n",
       "    </text>\n",
       "    <path class=\"displacy-arrowhead\" d=\"M6720,441.5 L6712,429.5 6728,429.5\" fill=\"currentColor\"/>\n",
       "</g>\n",
       "\n",
       "<g class=\"displacy-arrow\">\n",
       "    <path class=\"displacy-arc\" id=\"arrow-2c053ec6a07e4cf681d4be3acaf8fea7-0-38\" stroke-width=\"2px\" d=\"M6895,439.5 C6895,352.0 7030.0,352.0 7030.0,439.5\" fill=\"none\" stroke=\"currentColor\"/>\n",
       "    <text dy=\"1.25em\" style=\"font-size: 0.8em; letter-spacing: 1px\">\n",
       "        <textPath xlink:href=\"#arrow-2c053ec6a07e4cf681d4be3acaf8fea7-0-38\" class=\"displacy-label\" startOffset=\"50%\" side=\"left\" fill=\"currentColor\" text-anchor=\"middle\">neg</textPath>\n",
       "    </text>\n",
       "    <path class=\"displacy-arrowhead\" d=\"M6895,441.5 L6887,429.5 6903,429.5\" fill=\"currentColor\"/>\n",
       "</g>\n",
       "\n",
       "<g class=\"displacy-arrow\">\n",
       "    <path class=\"displacy-arc\" id=\"arrow-2c053ec6a07e4cf681d4be3acaf8fea7-0-39\" stroke-width=\"2px\" d=\"M4270,439.5 C4270,2.0 7050.0,2.0 7050.0,439.5\" fill=\"none\" stroke=\"currentColor\"/>\n",
       "    <text dy=\"1.25em\" style=\"font-size: 0.8em; letter-spacing: 1px\">\n",
       "        <textPath xlink:href=\"#arrow-2c053ec6a07e4cf681d4be3acaf8fea7-0-39\" class=\"displacy-label\" startOffset=\"50%\" side=\"left\" fill=\"currentColor\" text-anchor=\"middle\">advcl</textPath>\n",
       "    </text>\n",
       "    <path class=\"displacy-arrowhead\" d=\"M7050.0,441.5 L7058.0,429.5 7042.0,429.5\" fill=\"currentColor\"/>\n",
       "</g>\n",
       "\n",
       "<g class=\"displacy-arrow\">\n",
       "    <path class=\"displacy-arc\" id=\"arrow-2c053ec6a07e4cf681d4be3acaf8fea7-0-40\" stroke-width=\"2px\" d=\"M7245,439.5 C7245,352.0 7380.0,352.0 7380.0,439.5\" fill=\"none\" stroke=\"currentColor\"/>\n",
       "    <text dy=\"1.25em\" style=\"font-size: 0.8em; letter-spacing: 1px\">\n",
       "        <textPath xlink:href=\"#arrow-2c053ec6a07e4cf681d4be3acaf8fea7-0-40\" class=\"displacy-label\" startOffset=\"50%\" side=\"left\" fill=\"currentColor\" text-anchor=\"middle\">det</textPath>\n",
       "    </text>\n",
       "    <path class=\"displacy-arrowhead\" d=\"M7245,441.5 L7237,429.5 7253,429.5\" fill=\"currentColor\"/>\n",
       "</g>\n",
       "\n",
       "<g class=\"displacy-arrow\">\n",
       "    <path class=\"displacy-arc\" id=\"arrow-2c053ec6a07e4cf681d4be3acaf8fea7-0-41\" stroke-width=\"2px\" d=\"M7070,439.5 C7070,264.5 7385.0,264.5 7385.0,439.5\" fill=\"none\" stroke=\"currentColor\"/>\n",
       "    <text dy=\"1.25em\" style=\"font-size: 0.8em; letter-spacing: 1px\">\n",
       "        <textPath xlink:href=\"#arrow-2c053ec6a07e4cf681d4be3acaf8fea7-0-41\" class=\"displacy-label\" startOffset=\"50%\" side=\"left\" fill=\"currentColor\" text-anchor=\"middle\">dobj</textPath>\n",
       "    </text>\n",
       "    <path class=\"displacy-arrowhead\" d=\"M7385.0,441.5 L7393.0,429.5 7377.0,429.5\" fill=\"currentColor\"/>\n",
       "</g>\n",
       "\n",
       "<g class=\"displacy-arrow\">\n",
       "    <path class=\"displacy-arc\" id=\"arrow-2c053ec6a07e4cf681d4be3acaf8fea7-0-42\" stroke-width=\"2px\" d=\"M7070,439.5 C7070,177.0 7565.0,177.0 7565.0,439.5\" fill=\"none\" stroke=\"currentColor\"/>\n",
       "    <text dy=\"1.25em\" style=\"font-size: 0.8em; letter-spacing: 1px\">\n",
       "        <textPath xlink:href=\"#arrow-2c053ec6a07e4cf681d4be3acaf8fea7-0-42\" class=\"displacy-label\" startOffset=\"50%\" side=\"left\" fill=\"currentColor\" text-anchor=\"middle\">prep</textPath>\n",
       "    </text>\n",
       "    <path class=\"displacy-arrowhead\" d=\"M7565.0,441.5 L7573.0,429.5 7557.0,429.5\" fill=\"currentColor\"/>\n",
       "</g>\n",
       "\n",
       "<g class=\"displacy-arrow\">\n",
       "    <path class=\"displacy-arc\" id=\"arrow-2c053ec6a07e4cf681d4be3acaf8fea7-0-43\" stroke-width=\"2px\" d=\"M7770,439.5 C7770,352.0 7905.0,352.0 7905.0,439.5\" fill=\"none\" stroke=\"currentColor\"/>\n",
       "    <text dy=\"1.25em\" style=\"font-size: 0.8em; letter-spacing: 1px\">\n",
       "        <textPath xlink:href=\"#arrow-2c053ec6a07e4cf681d4be3acaf8fea7-0-43\" class=\"displacy-label\" startOffset=\"50%\" side=\"left\" fill=\"currentColor\" text-anchor=\"middle\">poss</textPath>\n",
       "    </text>\n",
       "    <path class=\"displacy-arrowhead\" d=\"M7770,441.5 L7762,429.5 7778,429.5\" fill=\"currentColor\"/>\n",
       "</g>\n",
       "\n",
       "<g class=\"displacy-arrow\">\n",
       "    <path class=\"displacy-arc\" id=\"arrow-2c053ec6a07e4cf681d4be3acaf8fea7-0-44\" stroke-width=\"2px\" d=\"M7595,439.5 C7595,264.5 7910.0,264.5 7910.0,439.5\" fill=\"none\" stroke=\"currentColor\"/>\n",
       "    <text dy=\"1.25em\" style=\"font-size: 0.8em; letter-spacing: 1px\">\n",
       "        <textPath xlink:href=\"#arrow-2c053ec6a07e4cf681d4be3acaf8fea7-0-44\" class=\"displacy-label\" startOffset=\"50%\" side=\"left\" fill=\"currentColor\" text-anchor=\"middle\">pobj</textPath>\n",
       "    </text>\n",
       "    <path class=\"displacy-arrowhead\" d=\"M7910.0,441.5 L7918.0,429.5 7902.0,429.5\" fill=\"currentColor\"/>\n",
       "</g>\n",
       "</svg></span>"
      ],
      "text/plain": [
       "<IPython.core.display.HTML object>"
      ]
     },
     "metadata": {},
     "output_type": "display_data"
    }
   ],
   "source": [
    "# This will display the sentence with the dependency parse tree\n",
    "displacy.render(nlp_sentence, style='dep', jupyter=True)"
   ]
  },
  {
   "cell_type": "code",
   "execution_count": 40,
   "id": "a011d2b1",
   "metadata": {},
   "outputs": [
    {
     "data": {
      "image/png": "[encoded data removed]",
      "text/plain": [
       "<Figure size 1500x800 with 1 Axes>"
      ]
     },
     "metadata": {},
     "output_type": "display_data"
    }
   ],
   "source": [
    "from wordcloud import WordCloud,STOPWORDS,ImageColorGenerator\n",
    "import matplotlib.pyplot as plt\n",
    "all_words=pd.Series(tokens)\n",
    "wordcloud=WordCloud(width=1000,height=500).generate(\" \".join(all_words))\n",
    "plt.figure(figsize=(15,8))\n",
    "plt.imshow(wordcloud)\n",
    "plt.title(\"Most common words\",size =16)\n",
    "plt.axis(\"off\")\n",
    "plt.show()"
   ]
  },
  {
   "cell_type": "code",
   "execution_count": 41,
   "id": "3cfff61e",
   "metadata": {},
   "outputs": [],
   "source": [
    "### to be continued"
   ]
  }
 ],
 "metadata": {
  "kernelspec": {
   "display_name": "Python 3 (ipykernel)",
   "language": "python",
   "name": "python3"
  },
  "language_info": {
   "codemirror_mode": {
    "name": "ipython",
    "version": 3
   },
   "file_extension": ".py",
   "mimetype": "text/x-python",
   "name": "python",
   "nbconvert_exporter": "python",
   "pygments_lexer": "ipython3",
   "version": "3.9.13"
  }
 },
 "nbformat": 4,
 "nbformat_minor": 5
}
